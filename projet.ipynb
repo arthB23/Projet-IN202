{
 "cells": [
  {
   "attachments": {},
   "cell_type": "markdown",
   "metadata": {},
   "source": [
    "## Outils pour la manipulation d'images et librairies.\n"
   ]
  },
  {
   "cell_type": "code",
   "execution_count": 43,
   "metadata": {},
   "outputs": [],
   "source": [
    "import PIL\n",
    "from PIL import Image\n",
    "import numpy as np\n",
    "#import scipy as sp\n",
    "import os\n",
    "from math import log10, sqrt\n",
    "\n",
    "def load(filename):\n",
    "    toLoad= Image.open(filename)\n",
    "    return np.asarray(toLoad)\n",
    "\n",
    "\n",
    "def psnr(original, compressed):\n",
    "    mse = np.mean((original - compressed) ** 2)\n",
    "    max_pixel = 255.0\n",
    "    psnr = 20 * log10(max_pixel / sqrt(mse))\n",
    "    return psnr\n",
    "\n",
    "def dct2(a):\n",
    "    return sp.fft.dct( sp.fft.dct( a, axis=0, norm='ortho' ), axis=1, norm='ortho' )\n",
    "\n",
    "def idct2(a):\n",
    "    return sp.fft.idct( sp.fft.idct( a, axis=0 , norm='ortho'), axis=1 , norm='ortho')\n",
    "\n"
   ]
  },
  {
   "attachments": {},
   "cell_type": "markdown",
   "metadata": {},
   "source": [
    "## Normalisation de l'image (YCbCr et padding)"
   ]
  },
  {
   "attachments": {},
   "cell_type": "markdown",
   "metadata": {},
   "source": [
    "Question 1 : Donner le code qui transforme une image RGB en une image YCbCr. Vous pourrez produire\n",
    "une matrice pour chaque composante, pour pouvoir plus facilement les manipuler indépendamment. Vous\n",
    "pouvez stocker les données YCbCr comme des entiers ou des flottants, mais vous expliquerez votre choix."
   ]
  },
  {
   "cell_type": "code",
   "execution_count": 44,
   "metadata": {},
   "outputs": [],
   "source": [
    "def RGB_en_YCbCR(image):\n",
    "    image_finale = np.array(image, dtype='float64')\n",
    "    for i in range(image.shape[0]):\n",
    "        for j in range(image.shape[1]):\n",
    "            R = image[i, j, 0]\n",
    "            G = image[i, j, 1]\n",
    "            B = image[i, j, 2]\n",
    "            image_finale[i, j, 0] = 0.299 * R + 0.587 * G + 0.114 * B\n",
    "            image_finale[i, j, 1] = -0.1687 * R - 0.3313 * G + 0.5 * B + 128\n",
    "            image_finale[i, j, 2] = 0.5 * R - 0.4187 * G - 0.0813 * B + 128\n",
    "    return image_finale\n"
   ]
  },
  {
   "attachments": {},
   "cell_type": "markdown",
   "metadata": {},
   "source": [
    "Question 2 : Donner le code qui transforme une image YCbCr en une image RGB. Attention, les valeurs des\n",
    "canaux RGB doivent être un entier dans [0, 255] qui pourra être codé sur un octet. Appliquer successivement\n",
    "la transformation RGB vers YCbCr puis YCbCr vers RGB et vérifier que vous obtenez l’image de départ.\n",
    "Vous consulterez la documentation des fonctions de numpy clip, uint8 et mask qui pourraient vous être\n",
    "utiles."
   ]
  },
  {
   "cell_type": "code",
   "execution_count": 45,
   "metadata": {},
   "outputs": [],
   "source": [
    "def YCbCR_en_RGB(image):\n",
    "    image_finale = np.array(image, dtype='uint8')\n",
    "    for i in range(image.shape[0]):\n",
    "        for j in range(image.shape[1]):\n",
    "            Y = image[i, j, 0]\n",
    "            Cb = image[i, j, 1]\n",
    "            Cr = image[i, j, 2]\n",
    "            image_finale[i, j, 0] = Y + 1.402 * (Cr - 128)\n",
    "            image_finale[i, j, 1] = Y - 0.34414 * (Cb - 128) - 0.71414 * (Cr - 128)\n",
    "            image_finale[i, j, 2] = Y + 1.772 * (Cb - 128)\n",
    "    return np.uint8(np.clip(image_finale, 0, 255))\n"
   ]
  },
  {
   "attachments": {},
   "cell_type": "markdown",
   "metadata": {},
   "source": [
    "Question 3 : Donner la fonction qui réalise ce padding ainsi que celle qui l’élimine et vérifier que\n",
    "l’application de ces deux transformations laissent l’image inchangée."
   ]
  },
  {
   "cell_type": "code",
   "execution_count": 46,
   "metadata": {},
   "outputs": [],
   "source": [
    "\n",
    "def padding(image):\n",
    "    padded_image = np.array(image, dtype='uint8')\n",
    "    ligne = padded_image.shape[0]\n",
    "    colonne = padded_image.shape[1]\n",
    "    canaux = padded_image.shape[2]\n",
    "    if ligne % 8 != 0:\n",
    "        padded_image = np.concatenate((padded_image, np.zeros((ligne%8, colonne, canaux), dtype=np.uint8)), axis=0)\n",
    "    if colonne % 8 != 0:\n",
    "        padded_image = np.concatenate((padded_image, np.zeros((ligne, colonne%8, canaux), dtype=np.uint8)), axis=1)\n",
    "    return padded_image"
   ]
  },
  {
   "cell_type": "code",
   "execution_count": 47,
   "metadata": {},
   "outputs": [],
   "source": [
    "def unpadding(padded_image, image_origine):\n",
    "    ligne = padded_image.shape[0]\n",
    "    colonne = padded_image.shape[1]\n",
    "\n",
    "    ligne_origine = image_origine.shape[0]\n",
    "    colonne_origine = image_origine.shape[1]\n",
    "\n",
    "    # Calculer le nombre de colonnes à enlever\n",
    "    nb_col_enlever = colonne - colonne_origine\n",
    "    while nb_col_enlever > 0:\n",
    "        padded_image = padded_image[:, :-1]\n",
    "        nb_col_enlever -= 1\n",
    "\n",
    "    # Calculer le nombre de lignes à enlever\n",
    "    nb_ligne_enlever = ligne- ligne_origine\n",
    "    while nb_ligne_enlever > 0:\n",
    "        padded_image = padded_image[:-1, :]\n",
    "        nb_ligne_enlever -= 1\n",
    "\n",
    "    return padded_image"
   ]
  },
  {
   "attachments": {},
   "cell_type": "markdown",
   "metadata": {},
   "source": [
    "## Découpage en blocs et compression"
   ]
  },
  {
   "cell_type": "code",
   "execution_count": null,
   "metadata": {},
   "outputs": [],
   "source": []
  },
  {
   "attachments": {},
   "cell_type": "markdown",
   "metadata": {},
   "source": [
    "## Écriture dans un fichier"
   ]
  },
  {
   "cell_type": "code",
   "execution_count": null,
   "metadata": {},
   "outputs": [],
   "source": []
  },
  {
   "attachments": {},
   "cell_type": "markdown",
   "metadata": {},
   "source": [
    "## Décompression"
   ]
  },
  {
   "attachments": {},
   "cell_type": "markdown",
   "metadata": {},
   "source": [
    "## Tests "
   ]
  },
  {
   "cell_type": "code",
   "execution_count": 48,
   "metadata": {},
   "outputs": [
    {
     "ename": "ZeroDivisionError",
     "evalue": "float division by zero",
     "output_type": "error",
     "traceback": [
      "\u001b[1;31m---------------------------------------------------------------------------\u001b[0m",
      "\u001b[1;31mZeroDivisionError\u001b[0m                         Traceback (most recent call last)",
      "\u001b[1;32m~\\AppData\\Local\\Temp\\ipykernel_111512\\2311280166.py\u001b[0m in \u001b[0;36m<cell line: 8>\u001b[1;34m()\u001b[0m\n\u001b[0;32m      6\u001b[0m \u001b[1;31m#Image.fromarray(padding(test),'RGB').show()\u001b[0m\u001b[1;33m\u001b[0m\u001b[1;33m\u001b[0m\u001b[0m\n\u001b[0;32m      7\u001b[0m \u001b[0mImage\u001b[0m\u001b[1;33m.\u001b[0m\u001b[0mfromarray\u001b[0m\u001b[1;33m(\u001b[0m\u001b[0munpadding\u001b[0m\u001b[1;33m(\u001b[0m\u001b[0mpadding\u001b[0m\u001b[1;33m(\u001b[0m\u001b[0mtest\u001b[0m\u001b[1;33m)\u001b[0m\u001b[1;33m,\u001b[0m \u001b[0mtest\u001b[0m\u001b[1;33m)\u001b[0m\u001b[1;33m,\u001b[0m\u001b[1;34m'RGB'\u001b[0m\u001b[1;33m)\u001b[0m\u001b[1;33m.\u001b[0m\u001b[0mshow\u001b[0m\u001b[1;33m(\u001b[0m\u001b[1;33m)\u001b[0m\u001b[1;33m\u001b[0m\u001b[1;33m\u001b[0m\u001b[0m\n\u001b[1;32m----> 8\u001b[1;33m \u001b[0mprint\u001b[0m\u001b[1;33m(\u001b[0m\u001b[0mpsnr\u001b[0m\u001b[1;33m(\u001b[0m\u001b[0mtest\u001b[0m\u001b[1;33m,\u001b[0m \u001b[0munpadding\u001b[0m\u001b[1;33m(\u001b[0m\u001b[0mpadding\u001b[0m\u001b[1;33m(\u001b[0m\u001b[0mtest\u001b[0m\u001b[1;33m)\u001b[0m\u001b[1;33m,\u001b[0m \u001b[0mtest\u001b[0m\u001b[1;33m)\u001b[0m\u001b[1;33m)\u001b[0m\u001b[1;33m)\u001b[0m\u001b[1;33m\u001b[0m\u001b[1;33m\u001b[0m\u001b[0m\n\u001b[0m",
      "\u001b[1;32m~\\AppData\\Local\\Temp\\ipykernel_111512\\1825327511.py\u001b[0m in \u001b[0;36mpsnr\u001b[1;34m(original, compressed)\u001b[0m\n\u001b[0;32m     14\u001b[0m     \u001b[0mmse\u001b[0m \u001b[1;33m=\u001b[0m \u001b[0mnp\u001b[0m\u001b[1;33m.\u001b[0m\u001b[0mmean\u001b[0m\u001b[1;33m(\u001b[0m\u001b[1;33m(\u001b[0m\u001b[0moriginal\u001b[0m \u001b[1;33m-\u001b[0m \u001b[0mcompressed\u001b[0m\u001b[1;33m)\u001b[0m \u001b[1;33m**\u001b[0m \u001b[1;36m2\u001b[0m\u001b[1;33m)\u001b[0m\u001b[1;33m\u001b[0m\u001b[1;33m\u001b[0m\u001b[0m\n\u001b[0;32m     15\u001b[0m     \u001b[0mmax_pixel\u001b[0m \u001b[1;33m=\u001b[0m \u001b[1;36m255.0\u001b[0m\u001b[1;33m\u001b[0m\u001b[1;33m\u001b[0m\u001b[0m\n\u001b[1;32m---> 16\u001b[1;33m     \u001b[0mpsnr\u001b[0m \u001b[1;33m=\u001b[0m \u001b[1;36m20\u001b[0m \u001b[1;33m*\u001b[0m \u001b[0mlog10\u001b[0m\u001b[1;33m(\u001b[0m\u001b[0mmax_pixel\u001b[0m \u001b[1;33m/\u001b[0m \u001b[0msqrt\u001b[0m\u001b[1;33m(\u001b[0m\u001b[0mmse\u001b[0m\u001b[1;33m)\u001b[0m\u001b[1;33m)\u001b[0m\u001b[1;33m\u001b[0m\u001b[1;33m\u001b[0m\u001b[0m\n\u001b[0m\u001b[0;32m     17\u001b[0m     \u001b[1;32mreturn\u001b[0m \u001b[0mpsnr\u001b[0m\u001b[1;33m\u001b[0m\u001b[1;33m\u001b[0m\u001b[0m\n\u001b[0;32m     18\u001b[0m \u001b[1;33m\u001b[0m\u001b[0m\n",
      "\u001b[1;31mZeroDivisionError\u001b[0m: float division by zero"
     ]
    }
   ],
   "source": [
    "test = load(\"test.png\")\n",
    "#testYCbCr = YCbCR_en_RGB(RGB_en_YCbCR(test))\n",
    "#Image.fromarray(test,'RGB').show()\n",
    "#Image.fromarray(testYCbCr,'RGB').show()\n",
    "\n",
    "#Image.fromarray(padding(test),'RGB').show()\n",
    "#Image.fromarray(unpadding(padding(test), test),'RGB').show()"
   ]
  }
 ],
 "metadata": {
  "kernelspec": {
   "display_name": "Python 3",
   "language": "python",
   "name": "python3"
  },
  "language_info": {
   "codemirror_mode": {
    "name": "ipython",
    "version": 3
   },
   "file_extension": ".py",
   "mimetype": "text/x-python",
   "name": "python",
   "nbconvert_exporter": "python",
   "pygments_lexer": "ipython3",
   "version": "3.10.11"
  },
  "orig_nbformat": 4,
  "vscode": {
   "interpreter": {
    "hash": "e5f921d2cbc40cc05b5a24db6ba0e6b62c33b50cc3ec097b0c624e897b5a9797"
   }
  }
 },
 "nbformat": 4,
 "nbformat_minor": 2
}
