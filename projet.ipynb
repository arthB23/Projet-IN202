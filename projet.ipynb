{
 "cells": [
  {
   "attachments": {},
   "cell_type": "markdown",
   "metadata": {},
   "source": [
    "## Outils pour la manipulation d'images et librairies.\n"
   ]
  },
  {
   "cell_type": "code",
   "execution_count": 60,
   "metadata": {
    "ExecuteTime": {
     "end_time": "2023-05-22T08:53:52.694198Z",
     "start_time": "2023-05-22T08:53:52.617055Z"
    }
   },
   "outputs": [],
   "source": [
    "import PIL\n",
    "from PIL import Image\n",
    "import numpy as np\n",
    "import scipy as sp\n",
    "import os\n",
    "from math import log10, sqrt\n",
    "\n",
    "def load(filename):\n",
    "    toLoad= Image.open(filename)\n",
    "    return np.asarray(toLoad)\n",
    "\n",
    "\n",
    "def psnr(original, compressed):\n",
    "    mse = np.mean((original - compressed) ** 2)\n",
    "    max_pixel = 255.0\n",
    "    psnr = 20 * log10(max_pixel / sqrt(mse))\n",
    "    return psnr\n",
    "\n",
    "def dct2(a):\n",
    "    return sp.fft.dct( sp.fft.dct( a, axis=0, norm='ortho' ), axis=1, norm='ortho' )\n",
    "\n",
    "def idct2(a):\n",
    "    return sp.fft.idct( sp.fft.idct( a, axis=0 , norm='ortho'), axis=1 , norm='ortho')\n"
   ]
  },
  {
   "attachments": {},
   "cell_type": "markdown",
   "metadata": {},
   "source": [
    "## Normalisation de l'image (YCbCr et padding)"
   ]
  },
  {
   "attachments": {},
   "cell_type": "markdown",
   "metadata": {},
   "source": [
    "Question 1 : Donner le code qui transforme une image RGB en une image YCbCr. Vous pourrez produire une matrice pour chaque composante, pour pouvoir plus facilement les manipuler indépendamment. Vous pouvez stocker les données YCbCr comme des entiers ou des flottants, mais vous expliquerez votre choix.\n",
    "\n",
    "Réponse: \n",
    "\n",
    "Nous avons choisi de stocker les donées YCnCr comme des flottants car lors de la conversion de l'image RGB en YCbCr, on utilise des coefficients très précis. Or les conversions répétées entre les différents modèles de couleur pourrait entraîner une dégradation progressive de l'image.En stockant les données YCbCr en flottants, on peut éviter la perte de précision puisque le nombres flottants offrent une représentation plus précise des valeurs qui est nécessaire au vu de la précision des coefficients utilisés."
   ]
  },
  {
   "cell_type": "code",
   "execution_count": 61,
   "metadata": {
    "ExecuteTime": {
     "end_time": "2023-05-22T08:53:52.695616Z",
     "start_time": "2023-05-22T08:53:52.619830Z"
    }
   },
   "outputs": [],
   "source": [
    "def RGB_en_YCbCR(image):\n",
    "    image_finale = np.array(image, dtype='float64')\n",
    "    for i in range(image.shape[0]):\n",
    "        for j in range(image.shape[1]):\n",
    "            R = image[i, j, 0]\n",
    "            G = image[i, j, 1]\n",
    "            B = image[i, j, 2]\n",
    "            image_finale[i, j, 0] = 0.299 * R + 0.587 * G + 0.114 * B\n",
    "            image_finale[i, j, 1] = -0.1687 * R - 0.3313 * G + 0.5 * B + 128\n",
    "            image_finale[i, j, 2] = 0.5 * R - 0.4187 * G - 0.0813 * B + 128\n",
    "    return image_finale\n"
   ]
  },
  {
   "attachments": {},
   "cell_type": "markdown",
   "metadata": {},
   "source": [
    "Question 2 : Donner le code qui transforme une image YCbCr en une image RGB. Attention, les valeurs des\n",
    "canaux RGB doivent être un entier dans [0, 255] qui pourra être codé sur un octet. Appliquer successivement\n",
    "la transformation RGB vers YCbCr puis YCbCr vers RGB et vérifier que vous obtenez l’image de départ.\n",
    "Vous consulterez la documentation des fonctions de numpy clip, uint8 et mask qui pourraient vous être\n",
    "utiles."
   ]
  },
  {
   "cell_type": "code",
   "execution_count": 62,
   "metadata": {
    "ExecuteTime": {
     "end_time": "2023-05-22T08:53:52.695734Z",
     "start_time": "2023-05-22T08:53:52.637161Z"
    }
   },
   "outputs": [],
   "source": [
    "def YCbCR_en_RGB(image):\n",
    "    image_finale = np.array(image, dtype='uint8')\n",
    "    for i in range(image.shape[0]):\n",
    "        for j in range(image.shape[1]):\n",
    "            Y = image[i, j, 0]\n",
    "            Cb = image[i, j, 1]\n",
    "            Cr = image[i, j, 2]\n",
    "            image_finale[i, j, 0] = Y + 1.402 * (Cr - 128)\n",
    "            image_finale[i, j, 1] = Y - 0.34414 * (Cb - 128) - 0.71414 * (Cr - 128)\n",
    "            image_finale[i, j, 2] = Y + 1.772 * (Cb - 128)\n",
    "    return np.uint8(np.clip(image_finale, 0, 255))\n"
   ]
  },
  {
   "attachments": {},
   "cell_type": "markdown",
   "metadata": {},
   "source": [
    "Question 3 : Donner la fonction qui réalise ce padding ainsi que celle qui l’élimine et vérifier que\n",
    "l’application de ces deux transformations laissent l’image inchangée."
   ]
  },
  {
   "cell_type": "code",
   "execution_count": 63,
   "metadata": {
    "ExecuteTime": {
     "end_time": "2023-05-22T08:53:52.695794Z",
     "start_time": "2023-05-22T08:53:52.643509Z"
    }
   },
   "outputs": [],
   "source": [
    "\n",
    "def padding(image):\n",
    "    padded_image = np.array(image, dtype='uint8')\n",
    "    ligne = padded_image.shape[0]\n",
    "    colonne = padded_image.shape[1]\n",
    "    canaux = padded_image.shape[2]\n",
    "    if ligne % 8 != 0:\n",
    "        padded_image = np.concatenate((padded_image, np.zeros((ligne%8, colonne, canaux), dtype=np.uint8)), axis=0)\n",
    "    if colonne % 8 != 0:\n",
    "        padded_image = np.concatenate((padded_image, np.zeros((ligne, colonne%8, canaux), dtype=np.uint8)), axis=1)\n",
    "    return padded_image"
   ]
  },
  {
   "cell_type": "code",
   "execution_count": 64,
   "metadata": {
    "ExecuteTime": {
     "end_time": "2023-05-22T08:53:52.695859Z",
     "start_time": "2023-05-22T08:53:52.651614Z"
    }
   },
   "outputs": [],
   "source": [
    "def unpadding(padded_image, image_origine):\n",
    "    ligne = padded_image.shape[0]\n",
    "    colonne = padded_image.shape[1]\n",
    "\n",
    "    ligne_origine = image_origine.shape[0]\n",
    "    colonne_origine = image_origine.shape[1]\n",
    "\n",
    "    # Calculer le nombre de colonnes à enlever\n",
    "    nb_col_enlever = colonne - colonne_origine\n",
    "    while nb_col_enlever > 0:\n",
    "        padded_image = padded_image[:, :-1]\n",
    "        nb_col_enlever -= 1\n",
    "\n",
    "    # Calculer le nombre de lignes à enlever\n",
    "    nb_ligne_enlever = ligne- ligne_origine\n",
    "    while nb_ligne_enlever > 0:\n",
    "        padded_image = padded_image[:-1, :]\n",
    "        nb_ligne_enlever -= 1\n",
    "\n",
    "    return padded_image"
   ]
  },
  {
   "attachments": {},
   "cell_type": "markdown",
   "metadata": {},
   "source": [
    "Question 4 : Implémenter la fonction qui sous-échantillonne une matrice et renvoie une matrice deux fois\n",
    "plus petite."
   ]
  },
  {
   "cell_type": "code",
   "execution_count": 65,
   "metadata": {
    "ExecuteTime": {
     "end_time": "2023-05-22T08:53:52.695992Z",
     "start_time": "2023-05-22T08:53:52.657937Z"
    }
   },
   "outputs": [],
   "source": [
    "def sous_echantillonnage(matrice):\n",
    "    matrice2 = matrice.copy()\n",
    "    for i in range(matrice.shape[0]):\n",
    "        for j in range(0, matrice.shape[1]):\n",
    "            matrice[i, j, 1] = 0\n",
    "            matrice[i, j, 2] = 0\n",
    "    for i in range(matrice.shape[0]):\n",
    "        for j in range(0, matrice.shape[1], 2):\n",
    "            new_valueCb = (matrice2[i][j][1] + matrice2[i][j+1][1])//2\n",
    "            new_valueCr = (matrice2[i][j][2] + matrice2[i][j+1][2])//2\n",
    "            matrice[i, j//2, 1] = new_valueCb\n",
    "            matrice[i, j//2, 2] = new_valueCr\n",
    "    return matrice"
   ]
  },
  {
   "attachments": {},
   "cell_type": "markdown",
   "metadata": {},
   "source": [
    "Question 5 : Implémenter la fonction qui multiplie par deux la deuxième dimension d’une matrice. Tester à la suite le sous-échantillonnage et cette fonction, vous devez retrouver une image presque identique à celle de départ."
   ]
  },
  {
   "cell_type": "code",
   "execution_count": 66,
   "metadata": {
    "ExecuteTime": {
     "end_time": "2023-05-22T08:53:52.696049Z",
     "start_time": "2023-05-22T08:53:52.665946Z"
    }
   },
   "outputs": [],
   "source": [
    "\n",
    "def mult_mat(matrice):\n",
    "    matrice2 = matrice.copy()\n",
    "    for i in range(matrice.shape[0]):\n",
    "        for j in range(0, matrice.shape[1]//2):\n",
    "            matrice[i][j*2][1] = matrice2[i][j][1]\n",
    "            matrice[i][j*2][2] = matrice2[i][j][2]\n",
    "            matrice[i][j*2+1][1] = matrice2[i][j][1]\n",
    "            matrice[i][j*2+1][2] = matrice2[i][j][2]\n",
    "    return matrice"
   ]
  },
  {
   "attachments": {},
   "cell_type": "markdown",
   "metadata": {},
   "source": [
    "## Découpage en blocs et compression"
   ]
  },
  {
   "attachments": {},
   "cell_type": "markdown",
   "metadata": {},
   "source": [
    "Question 6 : Soit une matrice dont les deux dimensions sont divisibles par 8. Donner une fonction qui découpe cette matrice en blocs 8 × 8 et les stocke dans une liste. L’ordre des blocs correspond à l’ordre de lecture d’une image."
   ]
  },
  {
   "cell_type": "code",
   "execution_count": 67,
   "metadata": {
    "ExecuteTime": {
     "end_time": "2023-05-22T08:53:52.697747Z",
     "start_time": "2023-05-22T08:53:52.675611Z"
    }
   },
   "outputs": [],
   "source": [
    "def decoupe_bloc(matrice):\n",
    "    lignes = matrice.shape[0]\n",
    "    colonnes = matrice.shape[1]\n",
    "    blocs = []\n",
    "    blocs.clear()\n",
    "    \n",
    "    # Parcours des indices de début de chaque bloc\n",
    "    for i in range(0, lignes, 8):\n",
    "        for j in range(0, colonnes, 8):\n",
    "            # Création d'un nouveau bloc vide\n",
    "            bloc = []\n",
    "            \n",
    "            # Parcours des lignes du bloc\n",
    "            for k in range(i, i + 8):\n",
    "                # Extraction des éléments de la ligne correspondante\n",
    "                ligne = matrice[k][j:j+8]\n",
    "                # Ajout de la ligne au bloc\n",
    "                bloc.append(ligne)\n",
    "            \n",
    "            # Ajout du bloc à la liste\n",
    "            blocs.append(bloc)\n",
    "    \n",
    "    return blocs"
   ]
  },
  {
   "attachments": {},
   "cell_type": "markdown",
   "metadata": {},
   "source": [
    "Question 7 : Donner une fonction qui applique la transformée à chaque bloc d’une liste"
   ]
  },
  {
   "cell_type": "code",
   "execution_count": 68,
   "metadata": {
    "ExecuteTime": {
     "end_time": "2023-05-22T08:53:52.705114Z",
     "start_time": "2023-05-22T08:53:52.681051Z"
    }
   },
   "outputs": [],
   "source": [
    "def applique_trans(liste_bloc):\n",
    "    liste_bloc = np.array(liste_bloc)\n",
    "    for i in range(len(liste_bloc)):\n",
    "        liste_bloc[i] = dct2(liste_bloc[i])\n",
    "    return liste_bloc"
   ]
  },
  {
   "attachments": {},
   "cell_type": "markdown",
   "metadata": {},
   "source": [
    "Question 8 : Implémentez le filtrage des coefficients des blocs selon un seuil donné en argument."
   ]
  },
  {
   "cell_type": "code",
   "execution_count": 69,
   "metadata": {
    "ExecuteTime": {
     "end_time": "2023-05-22T08:53:52.705349Z",
     "start_time": "2023-05-22T08:53:52.686909Z"
    }
   },
   "outputs": [],
   "source": [
    "def applique_seuil(liste_bloc, seuil):\n",
    "    for i in range(len(liste_bloc)):\n",
    "        for j in range(len(liste_bloc[0])):\n",
    "            for k in range(len(liste_bloc[0][0])):\n",
    "                for l in range(len(liste_bloc[0][0][0])):\n",
    "                    if liste_bloc[i][j][k][l] < seuil:\n",
    "                        liste_bloc[i][j][k][l] = 0\n",
    "    return liste_bloc"
   ]
  },
  {
   "attachments": {},
   "cell_type": "markdown",
   "metadata": {},
   "source": [
    "Question 9 : Donner une fonction qui est capable, à partir d’une image RGB, de créer les listes de blocs compressés dans les 3 modes."
   ]
  },
  {
   "cell_type": "code",
   "execution_count": 70,
   "metadata": {
    "ExecuteTime": {
     "end_time": "2023-05-22T08:53:52.705990Z",
     "start_time": "2023-05-22T08:53:52.693768Z"
    }
   },
   "outputs": [],
   "source": [
    "def trois_modes(image, seuil):\n",
    "    mode_0 =applique_trans(decoupe_bloc(padding(RGB_en_YCbCR(image))))\n",
    "    mode_1 = applique_seuil(applique_trans(decoupe_bloc(padding(RGB_en_YCbCR(image)))), seuil)\n",
    "    mode_2 = applique_seuil(applique_trans(decoupe_bloc(padding(sous_echantillonnage(RGB_en_YCbCR(image))))), seuil)\n",
    "    return mode_0, mode_1, mode_2"
   ]
  },
  {
   "attachments": {},
   "cell_type": "markdown",
   "metadata": {},
   "source": [
    "## Écriture dans un fichier"
   ]
  },
  {
   "attachments": {},
   "cell_type": "markdown",
   "metadata": {},
   "source": [
    "Question 10 : Pour commencer, vous  ́ecrirez quatres lignes contenant les informations de votre image. La première ligne contiendra le type du fichier : “SJPG”. La deuxième ligne contiendra les dimensions de l’image dans l’ordre hauteur puis largeur, séparées par un espace, par exemple “200 300”. La troisième ligne contiendra le mode de compression, par exemple “mode 1”. La quatrième ligne contiendra “RLE” si vous utilisez un run length encoding, ou “NORLE” sinon."
   ]
  },
  {
   "cell_type": "code",
   "execution_count": 71,
   "metadata": {
    "ExecuteTime": {
     "end_time": "2023-05-22T08:53:52.706171Z",
     "start_time": "2023-05-22T08:53:52.700798Z"
    }
   },
   "outputs": [],
   "source": [
    "def ecrire_fichier(image, mode):\n",
    "    f = open(\"fichier.txt\", \"w\")\n",
    "    f.write(f\"SJPG\\n{str(len(image[0]))} {str(len(image[0][0]))}\\n{mode}\\nRLE\\n\")\n",
    "\n",
    "    f.close()\n",
    "    return"
   ]
  },
  {
   "attachments": {},
   "cell_type": "markdown",
   "metadata": {},
   "source": [
    "Question 11 : Vous  ́ecrirez ensuite le contenu des blocs, d’abord ceux de Y, puis ceux de Cb puis ceux de Cr. Chaque bloc est écrit sur une ligne, les valeurs  ́etant des entiers séparés par de espaces."
   ]
  },
  {
   "cell_type": "code",
   "execution_count": 72,
   "metadata": {
    "ExecuteTime": {
     "end_time": "2023-05-22T08:53:53.479431Z",
     "start_time": "2023-05-22T08:53:52.764093Z"
    }
   },
   "outputs": [],
   "source": [
    "def ecrire_bloc(image):\n",
    "    f = open(\"fichier.txt\", \"a\")\n",
    "    for k in range(3):\n",
    "        for i in range(len(image)):\n",
    "            for j in range(len(image[0])):\n",
    "                f.write(str(image[i][j][k])+\" \")\n",
    "        f.write('\\n')\n",
    "    f.close()\n",
    "    return\n",
    "\n",
    "test = load(\"test.png\")\n",
    "ecrire_bloc(test)"
   ]
  },
  {
   "attachments": {},
   "cell_type": "markdown",
   "metadata": {},
   "source": [
    "Question 12 : Ajouter une option à votre fonction d’écriture pour qu’elle puisse ́ecrire les blocs en appliquant le codage RLE."
   ]
  },
  {
   "cell_type": "code",
   "execution_count": 73,
   "metadata": {
    "ExecuteTime": {
     "end_time": "2023-05-22T08:53:53.485470Z",
     "start_time": "2023-05-22T08:53:53.483561Z"
    }
   },
   "outputs": [],
   "source": [
    "def code_RLE(fichier):\n",
    "    r = open(fichier, \"r\")\n",
    "    e = open(fichier, \"w\")\n",
    "    ligne = r.readlines()\n",
    "    compt = 0\n",
    "    for i in range(4,7):\n",
    "        for car in ligne[i]:\n",
    "            if car == '0':\n",
    "                compt += 1\n",
    "                ligne[i][car] = \"\"\n",
    "            if car != '0' and compt != 0:\n",
    "                ligne[i][car] = \"#\"+compt\n",
    "                compt=0\n",
    "        e.writelines(ligne)\n",
    "    r.close()\n",
    "    e.close()\n",
    "    return fichier"
   ]
  },
  {
   "attachments": {},
   "cell_type": "markdown",
   "metadata": {},
   "source": [
    "## Décompression"
   ]
  },
  {
   "attachments": {},
   "cell_type": "markdown",
   "metadata": {},
   "source": [
    "Question 13 :  ́Ecrire une fonction de décompression qui prend une liste de blocs pour chaque canal Y,Cb,Cr contenant les coefficients de la DCT et calcule une matrice représentant l’image en RGB."
   ]
  },
  {
   "cell_type": "code",
   "execution_count": 74,
   "metadata": {
    "ExecuteTime": {
     "end_time": "2023-05-22T08:53:53.491463Z",
     "start_time": "2023-05-22T08:53:53.489669Z"
    }
   },
   "outputs": [],
   "source": [
    "def decompress(liste_bloc_Y, liste_bloc_Cb, liste_bloc_Cr, rows, cols):\n",
    "  image = np.zeros((rows, cols, 3), dtype=np.uint8)\n",
    "\n",
    "  for i in range(len(liste_bloc_Y)):\n",
    "    liste_bloc_Y[i] = np.array(idct2(liste_bloc_Y[i]))\n",
    "    liste_bloc_Cb[i] = np.array(idct2(liste_bloc_Cb[i]))\n",
    "    liste_bloc_Cr[i] = np.array(idct2(liste_bloc_Cr[i]))\n",
    "\n",
    "  for i in range(rows//8):\n",
    "    for j in range(cols//8):\n",
    "      image[i*8:(i+1)*8, j*8:(j+1)*8, 0] = liste_bloc_Y[i]\n",
    "  \n",
    "  for i in range(rows//8):\n",
    "    for j in range(cols//8):\n",
    "      image[i*8:(i+1)*8, j*8:(j+1)*8, 1] = liste_bloc_Cb[i]\n",
    "  \n",
    "  for i in range(rows//8):\n",
    "    for j in range(cols//8):\n",
    "      image[i*8:(i+1)*8, j*8:(j+1)*8, 2] = liste_bloc_Cr[i]\n",
    "\n",
    "  image = YCbCR_en_RGB(image)\n",
    "\n",
    "  return image"
   ]
  },
  {
   "attachments": {},
   "cell_type": "markdown",
   "metadata": {},
   "source": [
    "Question 14 :  ́Ecrire une fonction qui lit un fichier SJPG et qui créé les listes de blocs décrites par le fichier."
   ]
  },
  {
   "cell_type": "code",
   "execution_count": 75,
   "metadata": {
    "ExecuteTime": {
     "end_time": "2023-05-22T08:53:54.971649Z",
     "start_time": "2023-05-22T08:53:53.502252Z"
    }
   },
   "outputs": [
    {
     "name": "stdout",
     "output_type": "stream",
     "text": [
      "[[[  0  44  30]\n",
      "  [  0  44  30]\n",
      "  [  0  44  30]\n",
      "  ...\n",
      "  [ 77 135  30]\n",
      "  [ 77 135  30]\n",
      "  [ 77 135  30]]\n",
      "\n",
      " [[  0  44  30]\n",
      "  [  0  44  30]\n",
      "  [  0  44  30]\n",
      "  ...\n",
      "  [ 77 135  30]\n",
      "  [ 77 135  30]\n",
      "  [ 77 135  30]]\n",
      "\n",
      " [[  0  44  30]\n",
      "  [  0  44  30]\n",
      "  [  0  44  30]\n",
      "  ...\n",
      "  [ 77 135  30]\n",
      "  [ 77 135  30]\n",
      "  [ 77 135  30]]\n",
      "\n",
      " ...\n",
      "\n",
      " [[  0  44  30]\n",
      "  [  0  44  30]\n",
      "  [  0  44  30]\n",
      "  ...\n",
      "  [ 77 135  30]\n",
      "  [ 77 135  30]\n",
      "  [ 77 135  30]]\n",
      "\n",
      " [[ 77 135  30]\n",
      "  [ 77 135  30]\n",
      "  [ 77 135  30]\n",
      "  ...\n",
      "  [ 77 135  30]\n",
      "  [ 77 135  30]\n",
      "  [ 77 135  30]]\n",
      "\n",
      " [[ 77 135  30]\n",
      "  [ 77 135  30]\n",
      "  [ 77 135  30]\n",
      "  ...\n",
      "  [ 77 135  30]\n",
      "  [ 77 135  30]\n",
      "  [ 77 135  30]]]\n"
     ]
    }
   ],
   "source": [
    "def lire_fichier(fichier):\n",
    "    #creer les listes de blocs décrites par le fichier\n",
    "    f = open(fichier, \"r\")\n",
    "    ligne = f.readlines()\n",
    "    dim = ligne[1].split()\n",
    "    row = int(dim[0])\n",
    "    col = int(dim[1])\n",
    "    row_bloc = row//8\n",
    "    col_bloc = col//8\n",
    "    if ligne[3] == \"RLE\\n\":\n",
    "        for i in range(4, len(ligne)):\n",
    "            for j in range(len(ligne[i])):\n",
    "                for car in ligne[i]:\n",
    "                    new_ligne = \"\"\n",
    "                    if car.startswith(\"#\"):\n",
    "                        print(i, j)\n",
    "                        nombre_zeros = int(ligne[i, j:])\n",
    "                        print(nombre_zeros)\n",
    "                        new_ligne += \"0\" * nombre_zeros\n",
    "                    else:\n",
    "                        new_ligne += car\n",
    "                ligne[i] = new_ligne\n",
    "    \n",
    "    liste_bloc_Y = []\n",
    "    liste_bloc_Cb = []\n",
    "    liste_bloc_Cr = []\n",
    "    liste_inter_Y = []\n",
    "    liste_inter_Cb = []\n",
    "    liste_inter_Cr = []\n",
    "\n",
    "    for i in range(4, row_bloc*col_bloc+4):\n",
    "        liste_inter_Y.append(ligne[i])\n",
    "\n",
    "    for i in range(row_bloc*col_bloc+4, 2*row_bloc*col_bloc+4):\n",
    "        liste_inter_Cb.append(ligne[i])\n",
    "    \n",
    "    for i in range(2*row_bloc*col_bloc+4, 3*row_bloc*col_bloc+4):\n",
    "        liste_inter_Cr.append(ligne[i])\n",
    "         \n",
    "    for i in range(len(liste_inter_Y)):\n",
    "            liste_uni_bloc_Y = (liste_inter_Y[i].replace(\"\\n\", \"\")).split()\n",
    "            sous_liste_Y = []\n",
    "            for i in range(0, 64, 8):\n",
    "                sous_sous_liste_Y = liste_uni_bloc_Y[i:i+8]\n",
    "                sous_liste_Y.append(sous_sous_liste_Y)\n",
    "            liste_bloc_Y.append(sous_liste_Y)\n",
    "\n",
    "            liste_uni_bloc_Cb = (liste_inter_Cb[i].replace(\"\\n\", \"\")).split()\n",
    "            sous_liste_Cb = []\n",
    "            for i in range(0, 64, 8):\n",
    "                sous_sous_liste_Cb = liste_uni_bloc_Cb[i:i+8]\n",
    "                sous_liste_Cb.append(sous_sous_liste_Cb)\n",
    "            liste_bloc_Cb.append(sous_liste_Cb)\n",
    "\n",
    "            liste_uni_bloc_Cr = (liste_inter_Cr[i].replace(\"\\n\", \"\")).split()\n",
    "            sous_liste_Cr = []\n",
    "            for i in range(0, 64, 8):\n",
    "                sous_sous_liste_Cr = liste_uni_bloc_Cr[i:i+8]\n",
    "                sous_liste_Cr.append(sous_sous_liste_Cr)\n",
    "            liste_bloc_Cr.append(sous_liste_Cr)\n",
    "    f.close()\n",
    "    \n",
    "    return liste_bloc_Y, liste_bloc_Cb, liste_bloc_Cr, row, col\n",
    "\n",
    "a = lire_fichier('RLE.txt')\n",
    "print(decompress(a[0],a[1],a[2],a[3],a[4]))"
   ]
  },
  {
   "attachments": {},
   "cell_type": "markdown",
   "metadata": {},
   "source": [
    "## Tests "
   ]
  },
  {
   "cell_type": "code",
   "execution_count": 76,
   "metadata": {
    "ExecuteTime": {
     "end_time": "2023-05-22T08:54:35.429041Z",
     "start_time": "2023-05-22T08:53:54.975323Z"
    }
   },
   "outputs": [
    {
     "name": "stdout",
     "output_type": "stream",
     "text": [
      "43.60365608263673\n"
     ]
    }
   ],
   "source": [
    "test = load(\"test.png\")\n",
    "\n",
    "#testYCbCr = YCbCR_en_RGB(RGB_en_YCbCR(test))\n",
    "#Image.fromarray(test,'RGB').show()\n",
    "#Image.fromarray(testYCbCr,'RGB').show()\n",
    "\n",
    "#padded_image = padding(testYCbCr)\n",
    "\n",
    "#Image.fromarray(padded_image,'RGB').show()\n",
    "#Image.fromarray(unpadding(padded_image, test),'RGB').show()\n",
    "\n",
    "#Image.fromarray(YCbCR_en_RGB(mult_mat(sous_echantillonnage(RGB_en_YCbCR(test)))),'RGB').show()\n",
    "#print(psnr(test, YCbCR_en_RGB(mult_mat(sous_echantillonnage(RGB_en_YCbCR(test))))))\n",
    "\n",
    "#mode_0 =applique_trans(decoupe_bloc(padding(RGB_en_YCbCR(test))))\n",
    "#mode_1 = applique_seuil(applique_trans(decoupe_bloc(padding(RGB_en_YCbCR(test)))),10)\n",
    "#mode_2 = applique_seuil(applique_trans(decoupe_bloc(padding(sous_echantillonnage(RGB_en_YCbCR(test))))),10)\n",
    "#ecrire_fichier(test, \"mode 0\")\n",
    "#ecrire_bloc(test)\n",
    "#info_fichier(\"fichier.txt\")\n",
    "#lire_fichier(\"fichier.txt\")"
   ]
  },
  {
   "cell_type": "code",
   "execution_count": 76,
   "metadata": {
    "collapsed": false,
    "ExecuteTime": {
     "end_time": "2023-05-22T08:54:35.431313Z",
     "start_time": "2023-05-22T08:54:35.418611Z"
    }
   },
   "outputs": [],
   "source": []
  }
 ],
 "metadata": {
  "kernelspec": {
   "display_name": "Python 3.11.2 64-bit",
   "language": "python",
   "name": "python3"
  },
  "language_info": {
   "codemirror_mode": {
    "name": "ipython",
    "version": 3
   },
   "file_extension": ".py",
   "mimetype": "text/x-python",
   "name": "python",
   "nbconvert_exporter": "python",
   "pygments_lexer": "ipython3",
   "version": "3.11.2"
  },
  "orig_nbformat": 4,
  "vscode": {
   "interpreter": {
    "hash": "aee8b7b246df8f9039afb4144a1f6fd8d2ca17a180786b69acc140d282b71a49"
   }
  }
 },
 "nbformat": 4,
 "nbformat_minor": 2
}
