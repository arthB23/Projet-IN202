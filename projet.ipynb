{
 "cells": [
  {
   "attachments": {},
   "cell_type": "markdown",
   "metadata": {},
   "source": [
    "## Outils pour la manipulation d'images et librairies.\n"
   ]
  },
  {
   "cell_type": "code",
   "execution_count": 217,
   "metadata": {
    "ExecuteTime": {
     "end_time": "2023-05-14T15:32:24.398968Z",
     "start_time": "2023-05-14T15:32:24.309466Z"
    }
   },
   "outputs": [],
   "source": [
    "from PIL import Image\n",
    "import numpy as np\n",
    "import scipy as sp\n",
    "from math import log10, sqrt\n",
    "\n",
    "def load(filename):\n",
    "    toLoad= Image.open(filename)\n",
    "    return np.asarray(toLoad)\n",
    "\n",
    "\n",
    "def psnr(original, compressed):\n",
    "    mse = np.mean((original - compressed) ** 2)\n",
    "    max_pixel = 255.0\n",
    "    psnr = 20 * log10(max_pixel / sqrt(mse))\n",
    "    return psnr\n",
    "\n",
    "def dct2(a):\n",
    "    return sp.fft.dct( sp.fft.dct( a, axis=0, norm='ortho' ), axis=1, norm='ortho' )\n",
    "\n",
    "def idct2(a):\n",
    "    return sp.fft.idct( sp.fft.idct( a, axis=0 , norm='ortho'), axis=1 , norm='ortho')\n",
    "\n"
   ]
  },
  {
   "attachments": {},
   "cell_type": "markdown",
   "metadata": {},
   "source": [
    "## Normalisation de l'image (YCbCr et padding)"
   ]
  },
  {
   "attachments": {},
   "cell_type": "markdown",
   "metadata": {},
   "source": [
    "Question 1 : Donner le code qui transforme une image RGB en une image YCbCr. Vous pourrez produire une matrice pour chaque composante, pour pouvoir plus facilement les manipuler indépendamment. Vous pouvez stocker les données YCbCr comme des entiers ou des flottants, mais vous expliquerez votre choix.\n",
    "\n",
    "Réponse: \n",
    "\n",
    "Nous avons choisi de stocker les donées YCnCr comme des flottants car lors de la conversion de l'image RGB en YCbCr, on utilise des coefficients très précis. Or les conversions répétées entre les différents modèles de couleur pourrait entraîner une dégradation progressive de l'image.En stockant les données YCbCr en flottants, on peut éviter la perte de précision puisque le nombres flottants offrent une représentation plus précise des valeurs qui est nécessaire au vu de la précision des coefficients utilisés."
   ]
  },
  {
   "cell_type": "code",
   "execution_count": 218,
   "metadata": {
    "ExecuteTime": {
     "end_time": "2023-05-14T15:32:24.413514Z",
     "start_time": "2023-05-14T15:32:24.316544Z"
    }
   },
   "outputs": [],
   "source": [
    "def RGB_en_YCbCR(image):\n",
    "    image_finale = np.array(image, dtype='float64')\n",
    "    for i in range(image.shape[0]):\n",
    "        for j in range(image.shape[1]):\n",
    "            R = image[i, j, 0]\n",
    "            G = image[i, j, 1]\n",
    "            B = image[i, j, 2]\n",
    "            image_finale[i, j, 0] = 0.299 * R + 0.587 * G + 0.114 * B\n",
    "            image_finale[i, j, 1] = -0.1687 * R - 0.3313 * G + 0.5 * B + 128\n",
    "            image_finale[i, j, 2] = 0.5 * R - 0.4187 * G - 0.0813 * B + 128\n",
    "    return image_finale\n"
   ]
  },
  {
   "attachments": {},
   "cell_type": "markdown",
   "metadata": {},
   "source": [
    "Question 2 : Donner le code qui transforme une image YCbCr en une image RGB. Attention, les valeurs des\n",
    "canaux RGB doivent être un entier dans [0, 255] qui pourra être codé sur un octet. Appliquer successivement\n",
    "la transformation RGB vers YCbCr puis YCbCr vers RGB et vérifier que vous obtenez l’image de départ.\n",
    "Vous consulterez la documentation des fonctions de numpy clip, uint8 et mask qui pourraient vous être\n",
    "utiles."
   ]
  },
  {
   "cell_type": "code",
   "execution_count": 219,
   "metadata": {
    "ExecuteTime": {
     "end_time": "2023-05-14T15:32:24.413830Z",
     "start_time": "2023-05-14T15:32:24.328976Z"
    }
   },
   "outputs": [],
   "source": [
    "def YCbCR_en_RGB(image):\n",
    "    image_finale = np.array(image, dtype='uint8')\n",
    "    for i in range(image.shape[0]):\n",
    "        for j in range(image.shape[1]):\n",
    "            Y = image[i, j, 0]\n",
    "            Cb = image[i, j, 1]\n",
    "            Cr = image[i, j, 2]\n",
    "            image_finale[i, j, 0] = Y + 1.402 * (Cr - 128)\n",
    "            image_finale[i, j, 1] = Y - 0.34414 * (Cb - 128) - 0.71414 * (Cr - 128)\n",
    "            image_finale[i, j, 2] = Y + 1.772 * (Cb - 128)\n",
    "    return np.uint8(np.clip(image_finale, 0, 255))\n"
   ]
  },
  {
   "attachments": {},
   "cell_type": "markdown",
   "metadata": {},
   "source": [
    "Question 3 : Donner la fonction qui réalise ce padding ainsi que celle qui l’élimine et vérifier que\n",
    "l’application de ces deux transformations laissent l’image inchangée."
   ]
  },
  {
   "cell_type": "code",
   "execution_count": 220,
   "metadata": {
    "ExecuteTime": {
     "end_time": "2023-05-14T15:32:24.415389Z",
     "start_time": "2023-05-14T15:32:24.344549Z"
    }
   },
   "outputs": [],
   "source": [
    "\n",
    "def padding(image):\n",
    "    padded_image = np.array(image, dtype='uint8')\n",
    "    ligne = padded_image.shape[0]\n",
    "    colonne = padded_image.shape[1]\n",
    "    canaux = padded_image.shape[2]\n",
    "    if ligne % 8 != 0:\n",
    "        padded_image = np.concatenate((padded_image, np.zeros((ligne%8, colonne, canaux), dtype=np.uint8)), axis=0)\n",
    "    if colonne % 8 != 0:\n",
    "        padded_image = np.concatenate((padded_image, np.zeros((ligne, colonne%8, canaux), dtype=np.uint8)), axis=1)\n",
    "    return padded_image"
   ]
  },
  {
   "cell_type": "code",
   "execution_count": 221,
   "metadata": {
    "ExecuteTime": {
     "end_time": "2023-05-14T15:32:24.415663Z",
     "start_time": "2023-05-14T15:32:24.357147Z"
    }
   },
   "outputs": [],
   "source": [
    "def unpadding(padded_image, image_origine):\n",
    "    ligne = padded_image.shape[0]\n",
    "    colonne = padded_image.shape[1]\n",
    "\n",
    "    ligne_origine = image_origine.shape[0]\n",
    "    colonne_origine = image_origine.shape[1]\n",
    "\n",
    "    # Calculer le nombre de colonnes à enlever\n",
    "    nb_col_enlever = colonne - colonne_origine\n",
    "    while nb_col_enlever > 0:\n",
    "        padded_image = padded_image[:, :-1]\n",
    "        nb_col_enlever -= 1\n",
    "\n",
    "    # Calculer le nombre de lignes à enlever\n",
    "    nb_ligne_enlever = ligne- ligne_origine\n",
    "    while nb_ligne_enlever > 0:\n",
    "        padded_image = padded_image[:-1, :]\n",
    "        nb_ligne_enlever -= 1\n",
    "\n",
    "    return padded_image"
   ]
  },
  {
   "attachments": {},
   "cell_type": "markdown",
   "metadata": {},
   "source": [
    "Question 4 : Implémenter la fonction qui sous-échantillonne une matrice et renvoie une matrice deux fois\n",
    "plus petite."
   ]
  },
  {
   "cell_type": "code",
   "execution_count": 222,
   "metadata": {
    "ExecuteTime": {
     "end_time": "2023-05-14T15:32:24.415772Z",
     "start_time": "2023-05-14T15:32:24.367963Z"
    }
   },
   "outputs": [],
   "source": [
    "def sous_echantillonnage(matrice):\n",
    "    matrice2 = matrice.copy()\n",
    "    for i in range(matrice.shape[0]):\n",
    "        for j in range(0, matrice.shape[1]):\n",
    "            matrice[i, j, 1] = 0\n",
    "            matrice[i, j, 2] = 0\n",
    "    for i in range(matrice.shape[0]):\n",
    "        for j in range(0, matrice.shape[1], 2):\n",
    "            new_valueCb = (matrice2[i][j][1] + matrice2[i][j+1][1])//2\n",
    "            new_valueCr = (matrice2[i][j][2] + matrice2[i][j+1][2])//2\n",
    "            matrice[i, j//2, 1] = new_valueCb\n",
    "            matrice[i, j//2, 2] = new_valueCr\n",
    "    return matrice"
   ]
  },
  {
   "attachments": {},
   "cell_type": "markdown",
   "metadata": {},
   "source": [
    "Question 5 : Implémenter la fonction qui multiplie par deux la deuxième dimension d’une matrice. Tester à la suite le sous-échantillonnage et cette fonction, vous devez retrouver une image presque identique à celle de départ."
   ]
  },
  {
   "cell_type": "code",
   "execution_count": 223,
   "metadata": {
    "ExecuteTime": {
     "end_time": "2023-05-14T15:32:24.415838Z",
     "start_time": "2023-05-14T15:32:24.377302Z"
    }
   },
   "outputs": [],
   "source": [
    "\n",
    "def mult_mat(matrice):\n",
    "    matrice2 = matrice.copy()\n",
    "    for i in range(matrice.shape[0]):\n",
    "        for j in range(0, matrice.shape[1]//2):\n",
    "            matrice[i][j*2][1] = matrice2[i][j][1]\n",
    "            matrice[i][j*2][2] = matrice2[i][j][2]\n",
    "            matrice[i][j*2+1][1] = matrice2[i][j][1]\n",
    "            matrice[i][j*2+1][2] = matrice2[i][j][2]\n",
    "    return matrice"
   ]
  },
  {
   "attachments": {},
   "cell_type": "markdown",
   "metadata": {},
   "source": [
    "## Découpage en blocs et compression"
   ]
  },
  {
   "attachments": {},
   "cell_type": "markdown",
   "metadata": {},
   "source": [
    "Question 6 : Soit une matrice dont les deux dimensions sont divisibles par 8. Donner une fonction qui découpe cette matrice en blocs 8 × 8 et les stocke dans une liste. L’ordre des blocs correspond à l’ordre de lecture d’une image."
   ]
  },
  {
   "cell_type": "code",
   "execution_count": 224,
   "metadata": {
    "ExecuteTime": {
     "end_time": "2023-05-14T15:32:24.415986Z",
     "start_time": "2023-05-14T15:32:24.383811Z"
    }
   },
   "outputs": [],
   "source": [
    "def decoupe_bloc(matrice):\n",
    "    lignes = matrice.shape[0]\n",
    "    colonnes = matrice.shape[1]\n",
    "    blocs = []\n",
    "    \n",
    "    # Parcours des indices de début de chaque bloc\n",
    "    for i in range(0, lignes, 8):\n",
    "        for j in range(0, colonnes, 8):\n",
    "            # Création d'un nouveau bloc vide\n",
    "            bloc = []\n",
    "            \n",
    "            # Parcours des lignes du bloc\n",
    "            for k in range(i, i + 8):\n",
    "                # Extraction des éléments de la ligne correspondante\n",
    "                ligne = matrice[k][j:j+8]\n",
    "                # Ajout de la ligne au bloc\n",
    "                bloc.append(ligne)\n",
    "            \n",
    "            # Ajout du bloc à la liste\n",
    "            blocs.append(bloc)\n",
    "    \n",
    "    return blocs"
   ]
  },
  {
   "attachments": {},
   "cell_type": "markdown",
   "metadata": {},
   "source": [
    "Question 7 : Donner une fonction qui applique la transformée à chaque bloc d’une liste"
   ]
  },
  {
   "cell_type": "code",
   "execution_count": 225,
   "metadata": {
    "ExecuteTime": {
     "end_time": "2023-05-14T15:32:24.416510Z",
     "start_time": "2023-05-14T15:32:24.390985Z"
    }
   },
   "outputs": [],
   "source": [
    "def applique_trans(liste_bloc):\n",
    "    liste_bloc = np.array(liste_bloc)\n",
    "    for i in range(len(liste_bloc)):\n",
    "        liste_bloc[i] = dct2(liste_bloc[i])\n",
    "    return liste_bloc"
   ]
  },
  {
   "attachments": {},
   "cell_type": "markdown",
   "metadata": {},
   "source": [
    "Question 8 : Implémentez le filtrage des coefficients des blocs selon un seuil donné en argument."
   ]
  },
  {
   "cell_type": "code",
   "execution_count": 226,
   "metadata": {
    "ExecuteTime": {
     "end_time": "2023-05-14T15:32:24.416575Z",
     "start_time": "2023-05-14T15:32:24.399810Z"
    }
   },
   "outputs": [],
   "source": [
    "def applique_seuil(liste_bloc, seuil):\n",
    "    for i in range(len(liste_bloc)):\n",
    "        for j in range(len(liste_bloc[0])):\n",
    "            for k in range(len(liste_bloc[0][0])):\n",
    "                for l in range(len(liste_bloc[0][0][0])):\n",
    "                    if liste_bloc[i][j][k][l] < seuil:\n",
    "                        liste_bloc[i][j][k][l] = 0\n",
    "    return"
   ]
  },
  {
   "attachments": {},
   "cell_type": "markdown",
   "metadata": {},
   "source": [
    "Question 9 : Donner une fonction qui est capable, à partir d’une image RGB, de créer les listes de blocs compressés dans les 3 modes."
   ]
  },
  {
   "cell_type": "code",
   "execution_count": 227,
   "metadata": {
    "ExecuteTime": {
     "end_time": "2023-05-14T15:32:24.416625Z",
     "start_time": "2023-05-14T15:32:24.406292Z"
    }
   },
   "outputs": [],
   "source": [
    "def trois_modes(image, seuil):\n",
    "    #Image = (image[:,:,:4] * [0.2989, 0.5870, 0.1140]).sum(axis=3)\n",
    "    mode_0 =applique_trans(decoupe_bloc(padding(RGB_en_YCbCR(image))))\n",
    "    mode_1 = applique_seuil(applique_trans(decoupe_bloc(padding(RGB_en_YCbCR(image)))), seuil)\n",
    "    mode_2 = applique_seuil(applique_trans(decoupe_bloc(padding(sous_echantillonnage(RGB_en_YCbCR(image))))), seuil)\n",
    "    return mode_0, mode_1, mode_2, Image"
   ]
  },
  {
   "attachments": {},
   "cell_type": "markdown",
   "metadata": {},
   "source": [
    "## Écriture dans un fichier"
   ]
  },
  {
   "attachments": {},
   "cell_type": "markdown",
   "metadata": {},
   "source": [
    "Question 10 : Pour commencer, vous  ́ecrirez quatres lignes contenant les informations de votre image. La première ligne contiendra le type du fichier : “SJPG”. La deuxième ligne contiendra les dimensions de l’image dans l’ordre hauteur puis largeur, séparées par un espace, par exemple “200 300”. La troisième ligne contiendra le mode de compression, par exemple “mode 1”. La quatrième ligne contiendra “RLE” si vous utilisez un run length encoding, ou “NORLE” sinon."
   ]
  },
  {
   "cell_type": "code",
   "execution_count": 228,
   "metadata": {
    "ExecuteTime": {
     "end_time": "2023-05-14T15:32:24.472924Z",
     "start_time": "2023-05-14T15:32:24.414133Z"
    }
   },
   "outputs": [],
   "source": [
    "def ecrire_fichier(image, mode):\n",
    "    f = open(\"fichier.txt\", \"w\")\n",
    "    f.write(f\"SJPG\\n{str(len(image[0]))} {str(len(image[0][0]))}\\n{mode}\\nRLE\")"
   ]
  },
  {
   "attachments": {},
   "cell_type": "markdown",
   "metadata": {},
   "source": [
    "Question 11 : Vous  ́ecrirez ensuite le contenu des blocs, d’abord ceux de Y, puis ceux de Cb puis ceux de Cr. Chaque bloc est écrit sur une ligne, les valeurs  ́etant des entiers séparés par de espaces."
   ]
  },
  {
   "cell_type": "code",
   "execution_count": 229,
   "metadata": {
    "ExecuteTime": {
     "end_time": "2023-05-14T15:32:24.473208Z",
     "start_time": "2023-05-14T15:32:24.419229Z"
    }
   },
   "outputs": [],
   "source": [
    "def ecrire_bloc(image):\n",
    "    f = open(\"fichier.txt\", \"w\")\n",
    "    for i in range(len(image[0])-1):\n",
    "        for j in range(len(image[0][0])):\n",
    "            f.write(str(image[i][j][0]))\n",
    "    f.write(\"\\n\")\n",
    "    for i in range(len(image[0])-1):\n",
    "        for j in range(len(image[0][0])):\n",
    "            f.write(str(image[i][j][1]))\n",
    "    f.write(\"\\n\")\n",
    "    for i in range(len(image[0])-1):\n",
    "        for j in range(len(image[0][0])):\n",
    "            f.write(str(image[i][j][2]))\n",
    "    f.close()\n",
    "    return f"
   ]
  },
  {
   "attachments": {},
   "cell_type": "markdown",
   "metadata": {},
   "source": [
    "Question 12 : Ajouter une option à votre fonction d’écriture pour qu’elle puisse ́ecrire les blocs en appliquant le codage RLE."
   ]
  },
  {
   "cell_type": "code",
   "execution_count": 230,
   "metadata": {
    "ExecuteTime": {
     "end_time": "2023-05-14T15:32:24.474356Z",
     "start_time": "2023-05-14T15:32:24.445463Z"
    }
   },
   "outputs": [],
   "source": [
    "def code_RLE(fichier):\n",
    "    r = open(fichier, \"r\")\n",
    "    e = open(fichier, \"w\")\n",
    "    ligne = r.readlines()\n",
    "    compt = 0\n",
    "    for i in range(4,7):\n",
    "        for car in ligne[i]:\n",
    "            if car == '0':\n",
    "                compt += 1\n",
    "                ligne[i][car] = \"\"\n",
    "            if car != '0':\n",
    "                ligne[i][car] = \"#\"+compt\n",
    "                compt=0\n",
    "        e.writelines(ligne)\n",
    "    r.close()\n",
    "    e.close()\n",
    "    return fichier"
   ]
  },
  {
   "attachments": {},
   "cell_type": "markdown",
   "metadata": {},
   "source": [
    "## Décompression"
   ]
  },
  {
   "attachments": {},
   "cell_type": "markdown",
   "metadata": {},
   "source": [
    "Question 13 :  ́Ecrire une fonction de décompression qui prend une liste de blocs pour chaque canal Y,Cb,Cr contenant les coefficients de la DCT et calcule une matrice représentant l’image en RGB."
   ]
  },
  {
   "cell_type": "code",
   "execution_count": 231,
   "metadata": {
    "ExecuteTime": {
     "end_time": "2023-05-14T15:32:24.474895Z",
     "start_time": "2023-05-14T15:32:24.456069Z"
    }
   },
   "outputs": [],
   "source": [
    "def decompress(liste_bloc):\n",
    "    block_size = 8\n",
    "    image_width = len(liste_bloc[0]) * block_size\n",
    "    image_height = len(liste_bloc) * block_size\n",
    "    image = np.zeros((image_height, image_width, 3), dtype=np.uint8)\n",
    "\n",
    "    for i, block_row in enumerate(liste_bloc):\n",
    "        for j, block in enumerate(block_row):\n",
    "            block = np.array(block)\n",
    "            block = block.reshape((block_size, block_size, 3))\n",
    "\n",
    "            start_row = i * block_size\n",
    "            start_col = j * block_size\n",
    "\n",
    "            image[start_row:start_row+block_size, start_col:start_col+block_size, :] = block\n",
    "\n",
    "    return image"
   ]
  },
  {
   "attachments": {},
   "cell_type": "markdown",
   "metadata": {},
   "source": [
    "Question 14 :  ́Ecrire une fonction qui lit un fichier SJPG et qui créé les listes de blocs décrites par le fichier."
   ]
  },
  {
   "cell_type": "code",
   "execution_count": 232,
   "metadata": {
    "ExecuteTime": {
     "end_time": "2023-05-14T15:32:24.474971Z",
     "start_time": "2023-05-14T15:32:24.463406Z"
    }
   },
   "outputs": [],
   "source": [
    "def lire_fichier(fichier):\n",
    "    f = open(fichier, \"r\")\n",
    "    ligne = f.readlines()\n",
    "    image = np.zeros((int(ligne[1][0]), int(ligne[1][2]), 3), dtype=np.uint8)\n",
    "    for i in range(4,7):\n",
    "        for j in range(len(ligne[i])):\n",
    "            image[i-4][j][0] = ligne[i][j]\n",
    "    for i in range(8,11):\n",
    "        for j in range(len(ligne[i])):\n",
    "            image[i-8][j][1] = ligne[i][j]\n",
    "    for i in range(12,15):\n",
    "        for j in range(len(ligne[i])):\n",
    "            image[i-12][j][2] = ligne[i][j]\n",
    "    f.close()\n",
    "    return image\n"
   ]
  },
  {
   "attachments": {},
   "cell_type": "markdown",
   "metadata": {},
   "source": []
  },
  {
   "attachments": {},
   "cell_type": "markdown",
   "metadata": {},
   "source": [
    "## Tests "
   ]
  },
  {
   "cell_type": "code",
   "execution_count": 233,
   "metadata": {
    "ExecuteTime": {
     "end_time": "2023-05-14T15:32:24.548271Z",
     "start_time": "2023-05-14T15:32:24.470799Z"
    }
   },
   "outputs": [
    {
     "ename": "IndexError",
     "evalue": "index 472 is out of bounds for axis 0 with size 472",
     "output_type": "error",
     "traceback": [
      "\u001B[0;31m---------------------------------------------------------------------------\u001B[0m",
      "\u001B[0;31mIndexError\u001B[0m                                Traceback (most recent call last)",
      "Cell \u001B[0;32mIn [233], line 16\u001B[0m\n\u001B[1;32m      3\u001B[0m \u001B[38;5;66;03m#testYCbCr = YCbCR_en_RGB(RGB_en_YCbCR(test))\u001B[39;00m\n\u001B[1;32m      4\u001B[0m \u001B[38;5;66;03m#Image.fromarray(test,'RGB').show()\u001B[39;00m\n\u001B[1;32m      5\u001B[0m \u001B[38;5;66;03m#Image.fromarray(testYCbCr,'RGB').show()\u001B[39;00m\n\u001B[0;32m   (...)\u001B[0m\n\u001B[1;32m     12\u001B[0m \u001B[38;5;66;03m# Image.fromarray(YCbCR_en_RGB(mult_mat(sous_echantillonnage(RGB_en_YCbCR(test)))),'RGB').show()\u001B[39;00m\n\u001B[1;32m     13\u001B[0m \u001B[38;5;66;03m#print(psnr(test, YCbCR_en_RGB(mult_mat(sous_echantillonnage(RGB_en_YCbCR(test))))))\u001B[39;00m\n\u001B[1;32m     15\u001B[0m ecrire_fichier(test, \u001B[38;5;124m\"\u001B[39m\u001B[38;5;124mmode 0\u001B[39m\u001B[38;5;124m\"\u001B[39m)\n\u001B[0;32m---> 16\u001B[0m \u001B[43mecrire_bloc\u001B[49m\u001B[43m(\u001B[49m\u001B[43mtest\u001B[49m\u001B[43m)\u001B[49m\n\u001B[1;32m     17\u001B[0m \u001B[38;5;66;03m#solve IndexError: index 472 is out of bounds for axis 0 with size 472\u001B[39;00m\n\u001B[1;32m     19\u001B[0m code_RLE(\u001B[38;5;124m\"\u001B[39m\u001B[38;5;124mfichier.txt\u001B[39m\u001B[38;5;124m\"\u001B[39m)\n",
      "Cell \u001B[0;32mIn [229], line 5\u001B[0m, in \u001B[0;36mecrire_bloc\u001B[0;34m(image)\u001B[0m\n\u001B[1;32m      3\u001B[0m \u001B[38;5;28;01mfor\u001B[39;00m i \u001B[38;5;129;01min\u001B[39;00m \u001B[38;5;28mrange\u001B[39m(\u001B[38;5;28mlen\u001B[39m(image[\u001B[38;5;241m0\u001B[39m])\u001B[38;5;241m-\u001B[39m\u001B[38;5;241m1\u001B[39m):\n\u001B[1;32m      4\u001B[0m     \u001B[38;5;28;01mfor\u001B[39;00m j \u001B[38;5;129;01min\u001B[39;00m \u001B[38;5;28mrange\u001B[39m(\u001B[38;5;28mlen\u001B[39m(image[\u001B[38;5;241m0\u001B[39m][\u001B[38;5;241m0\u001B[39m])):\n\u001B[0;32m----> 5\u001B[0m         f\u001B[38;5;241m.\u001B[39mwrite(\u001B[38;5;28mstr\u001B[39m(\u001B[43mimage\u001B[49m\u001B[43m[\u001B[49m\u001B[43mi\u001B[49m\u001B[43m]\u001B[49m[j][\u001B[38;5;241m0\u001B[39m]))\n\u001B[1;32m      6\u001B[0m f\u001B[38;5;241m.\u001B[39mwrite(\u001B[38;5;124m\"\u001B[39m\u001B[38;5;130;01m\\n\u001B[39;00m\u001B[38;5;124m\"\u001B[39m)\n\u001B[1;32m      7\u001B[0m \u001B[38;5;28;01mfor\u001B[39;00m i \u001B[38;5;129;01min\u001B[39;00m \u001B[38;5;28mrange\u001B[39m(\u001B[38;5;28mlen\u001B[39m(image[\u001B[38;5;241m0\u001B[39m])\u001B[38;5;241m-\u001B[39m\u001B[38;5;241m1\u001B[39m):\n",
      "\u001B[0;31mIndexError\u001B[0m: index 472 is out of bounds for axis 0 with size 472"
     ]
    }
   ],
   "source": [
    "test = load(\"test.png\")\n",
    "\n",
    "#testYCbCr = YCbCR_en_RGB(RGB_en_YCbCR(test))\n",
    "#Image.fromarray(test,'RGB').show()\n",
    "#Image.fromarray(testYCbCr,'RGB').show()\n",
    "\n",
    "#padded_image = padding(testYCbCr)\n",
    "\n",
    "# Image.fromarray(padded_image,'RGB').show()\n",
    "# Image.fromarray(unpadding(padded_image, test),'RGB').show()\n",
    "\n",
    "# Image.fromarray(YCbCR_en_RGB(mult_mat(sous_echantillonnage(RGB_en_YCbCR(test)))),'RGB').show()\n",
    "#print(psnr(test, YCbCR_en_RGB(mult_mat(sous_echantillonnage(RGB_en_YCbCR(test))))))\n",
    "\n",
    "ecrire_fichier(test, \"mode 0\")\n",
    "ecrire_bloc(test)\n",
    "#solve IndexError: index 472 is out of bounds for axis 0 with size 472\n",
    "\n",
    "code_RLE(\"fichier.txt\")\n",
    "lire_fichier(\"fichier.txt\")\n",
    "\n",
    "mode_0 =applique_trans(decoupe_bloc(padding(RGB_en_YCbCR(test))))\n",
    "mode_1 = applique_seuil(applique_trans(decoupe_bloc(padding(RGB_en_YCbCR(test)))),10)\n",
    "mode_2 = applique_seuil(applique_trans(decoupe_bloc(padding(sous_echantillonnage(RGB_en_YCbCR(test))))),10)\n",
    "\n",
    "Image.fromarray(mode_0,'RGB').show()\n",
    "Image.fromarray(mode_1,'RGB').show()"
   ]
  },
  {
   "cell_type": "code",
   "execution_count": null,
   "outputs": [],
   "source": [],
   "metadata": {
    "collapsed": false
   }
  }
 ],
 "metadata": {
  "kernelspec": {
   "display_name": "Python 3",
   "language": "python",
   "name": "python3"
  },
  "language_info": {
   "codemirror_mode": {
    "name": "ipython",
    "version": 3
   },
   "file_extension": ".py",
   "mimetype": "text/x-python",
   "name": "python",
   "nbconvert_exporter": "python",
   "pygments_lexer": "ipython3",
   "version": "3.9.12"
  },
  "orig_nbformat": 4,
  "vscode": {
   "interpreter": {
    "hash": "e5f921d2cbc40cc05b5a24db6ba0e6b62c33b50cc3ec097b0c624e897b5a9797"
   }
  }
 },
 "nbformat": 4,
 "nbformat_minor": 2
}
