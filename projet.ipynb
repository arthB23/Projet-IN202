{
 "cells": [
  {
   "attachments": {},
   "cell_type": "markdown",
   "metadata": {},
   "source": [
    "## Outils pour la manipulation d'images et librairies.\n"
   ]
  },
  {
   "cell_type": "code",
   "execution_count": 205,
   "metadata": {
    "ExecuteTime": {
     "end_time": "2023-05-20T16:27:38.073860Z",
     "start_time": "2023-05-20T16:27:37.980141Z"
    }
   },
   "outputs": [],
   "source": [
    "import PIL\n",
    "from PIL import Image\n",
    "import numpy as np\n",
    "import scipy as sp\n",
    "import os\n",
    "from math import log10, sqrt\n",
    "\n",
    "def load(filename):\n",
    "    toLoad= Image.open(filename)\n",
    "    return np.asarray(toLoad)\n",
    "\n",
    "\n",
    "def psnr(original, compressed):\n",
    "    mse = np.mean((original - compressed) ** 2)\n",
    "    max_pixel = 255.0\n",
    "    psnr = 20 * log10(max_pixel / sqrt(mse))\n",
    "    return psnr\n",
    "\n",
    "def dct2(a):\n",
    "    return sp.fft.dct( sp.fft.dct( a, axis=0, norm='ortho' ), axis=1, norm='ortho' )\n",
    "\n",
    "def idct2(a):\n",
    "    return sp.fft.idct( sp.fft.idct( a, axis=0 , norm='ortho'), axis=1 , norm='ortho')\n",
    "\n"
   ]
  },
  {
   "attachments": {},
   "cell_type": "markdown",
   "metadata": {},
   "source": [
    "## Normalisation de l'image (YCbCr et padding)"
   ]
  },
  {
   "attachments": {},
   "cell_type": "markdown",
   "metadata": {},
   "source": [
    "Question 1 : Donner le code qui transforme une image RGB en une image YCbCr. Vous pourrez produire une matrice pour chaque composante, pour pouvoir plus facilement les manipuler indépendamment. Vous pouvez stocker les données YCbCr comme des entiers ou des flottants, mais vous expliquerez votre choix.\n",
    "\n",
    "Réponse: \n",
    "\n",
    "Nous avons choisi de stocker les donées YCnCr comme des flottants car lors de la conversion de l'image RGB en YCbCr, on utilise des coefficients très précis. Or les conversions répétées entre les différents modèles de couleur pourrait entraîner une dégradation progressive de l'image.En stockant les données YCbCr en flottants, on peut éviter la perte de précision puisque le nombres flottants offrent une représentation plus précise des valeurs qui est nécessaire au vu de la précision des coefficients utilisés."
   ]
  },
  {
   "cell_type": "code",
   "execution_count": 206,
   "metadata": {
    "ExecuteTime": {
     "end_time": "2023-05-20T16:27:38.074742Z",
     "start_time": "2023-05-20T16:27:37.986334Z"
    }
   },
   "outputs": [],
   "source": [
    "def RGB_en_YCbCR(image):\n",
    "    image_finale = np.array(image, dtype='float64')\n",
    "    for i in range(image.shape[0]):\n",
    "        for j in range(image.shape[1]):\n",
    "            R = image[i, j, 0]\n",
    "            G = image[i, j, 1]\n",
    "            B = image[i, j, 2]\n",
    "            image_finale[i, j, 0] = 0.299 * R + 0.587 * G + 0.114 * B\n",
    "            image_finale[i, j, 1] = -0.1687 * R - 0.3313 * G + 0.5 * B + 128\n",
    "            image_finale[i, j, 2] = 0.5 * R - 0.4187 * G - 0.0813 * B + 128\n",
    "    return image_finale\n"
   ]
  },
  {
   "attachments": {},
   "cell_type": "markdown",
   "metadata": {},
   "source": [
    "Question 2 : Donner le code qui transforme une image YCbCr en une image RGB. Attention, les valeurs des\n",
    "canaux RGB doivent être un entier dans [0, 255] qui pourra être codé sur un octet. Appliquer successivement\n",
    "la transformation RGB vers YCbCr puis YCbCr vers RGB et vérifier que vous obtenez l’image de départ.\n",
    "Vous consulterez la documentation des fonctions de numpy clip, uint8 et mask qui pourraient vous être\n",
    "utiles."
   ]
  },
  {
   "cell_type": "code",
   "execution_count": 207,
   "metadata": {
    "ExecuteTime": {
     "end_time": "2023-05-20T16:27:38.075110Z",
     "start_time": "2023-05-20T16:27:37.993156Z"
    }
   },
   "outputs": [],
   "source": [
    "def YCbCR_en_RGB(image):\n",
    "    image_finale = np.array(image, dtype='uint8')\n",
    "    for i in range(image.shape[0]):\n",
    "        for j in range(image.shape[1]):\n",
    "            Y = image[i, j, 0]\n",
    "            Cb = image[i, j, 1]\n",
    "            Cr = image[i, j, 2]\n",
    "            image_finale[i, j, 0] = Y + 1.402 * (Cr - 128)\n",
    "            image_finale[i, j, 1] = Y - 0.34414 * (Cb - 128) - 0.71414 * (Cr - 128)\n",
    "            image_finale[i, j, 2] = Y + 1.772 * (Cb - 128)\n",
    "    return np.uint8(np.clip(image_finale, 0, 255))\n"
   ]
  },
  {
   "attachments": {},
   "cell_type": "markdown",
   "metadata": {},
   "source": [
    "Question 3 : Donner la fonction qui réalise ce padding ainsi que celle qui l’élimine et vérifier que\n",
    "l’application de ces deux transformations laissent l’image inchangée."
   ]
  },
  {
   "cell_type": "code",
   "execution_count": 208,
   "metadata": {
    "ExecuteTime": {
     "end_time": "2023-05-20T16:27:38.075426Z",
     "start_time": "2023-05-20T16:27:38.000361Z"
    }
   },
   "outputs": [],
   "source": [
    "\n",
    "def padding(image):\n",
    "    padded_image = np.array(image, dtype='uint8')\n",
    "    ligne = padded_image.shape[0]\n",
    "    colonne = padded_image.shape[1]\n",
    "    canaux = padded_image.shape[2]\n",
    "    if ligne % 8 != 0:\n",
    "        padded_image = np.concatenate((padded_image, np.zeros((ligne%8, colonne, canaux), dtype=np.uint8)), axis=0)\n",
    "    if colonne % 8 != 0:\n",
    "        padded_image = np.concatenate((padded_image, np.zeros((ligne, colonne%8, canaux), dtype=np.uint8)), axis=1)\n",
    "    return padded_image"
   ]
  },
  {
   "cell_type": "code",
   "execution_count": 209,
   "metadata": {
    "ExecuteTime": {
     "end_time": "2023-05-20T16:27:38.075770Z",
     "start_time": "2023-05-20T16:27:38.005151Z"
    }
   },
   "outputs": [],
   "source": [
    "def unpadding(padded_image, image_origine):\n",
    "    ligne = padded_image.shape[0]\n",
    "    colonne = padded_image.shape[1]\n",
    "\n",
    "    ligne_origine = image_origine.shape[0]\n",
    "    colonne_origine = image_origine.shape[1]\n",
    "\n",
    "    # Calculer le nombre de colonnes à enlever\n",
    "    nb_col_enlever = colonne - colonne_origine\n",
    "    while nb_col_enlever > 0:\n",
    "        padded_image = padded_image[:, :-1]\n",
    "        nb_col_enlever -= 1\n",
    "\n",
    "    # Calculer le nombre de lignes à enlever\n",
    "    nb_ligne_enlever = ligne- ligne_origine\n",
    "    while nb_ligne_enlever > 0:\n",
    "        padded_image = padded_image[:-1, :]\n",
    "        nb_ligne_enlever -= 1\n",
    "\n",
    "    return padded_image"
   ]
  },
  {
   "attachments": {},
   "cell_type": "markdown",
   "metadata": {},
   "source": [
    "Question 4 : Implémenter la fonction qui sous-échantillonne une matrice et renvoie une matrice deux fois\n",
    "plus petite."
   ]
  },
  {
   "cell_type": "code",
   "execution_count": 210,
   "metadata": {
    "ExecuteTime": {
     "end_time": "2023-05-20T16:27:38.076358Z",
     "start_time": "2023-05-20T16:27:38.010539Z"
    }
   },
   "outputs": [],
   "source": [
    "def sous_echantillonnage(matrice):\n",
    "    matrice2 = matrice.copy()\n",
    "    for i in range(matrice.shape[0]):\n",
    "        for j in range(0, matrice.shape[1]):\n",
    "            matrice[i, j, 1] = 0\n",
    "            matrice[i, j, 2] = 0\n",
    "    for i in range(matrice.shape[0]):\n",
    "        for j in range(0, matrice.shape[1], 2):\n",
    "            new_valueCb = (matrice2[i][j][1] + matrice2[i][j+1][1])//2\n",
    "            new_valueCr = (matrice2[i][j][2] + matrice2[i][j+1][2])//2\n",
    "            matrice[i, j//2, 1] = new_valueCb\n",
    "            matrice[i, j//2, 2] = new_valueCr\n",
    "    return matrice"
   ]
  },
  {
   "attachments": {},
   "cell_type": "markdown",
   "metadata": {},
   "source": [
    "Question 5 : Implémenter la fonction qui multiplie par deux la deuxième dimension d’une matrice. Tester à la suite le sous-échantillonnage et cette fonction, vous devez retrouver une image presque identique à celle de départ."
   ]
  },
  {
   "cell_type": "code",
   "execution_count": 211,
   "metadata": {
    "ExecuteTime": {
     "end_time": "2023-05-20T16:27:38.076721Z",
     "start_time": "2023-05-20T16:27:38.015708Z"
    }
   },
   "outputs": [],
   "source": [
    "\n",
    "def mult_mat(matrice):\n",
    "    matrice2 = matrice.copy()\n",
    "    for i in range(matrice.shape[0]):\n",
    "        for j in range(0, matrice.shape[1]//2):\n",
    "            matrice[i][j*2][1] = matrice2[i][j][1]\n",
    "            matrice[i][j*2][2] = matrice2[i][j][2]\n",
    "            matrice[i][j*2+1][1] = matrice2[i][j][1]\n",
    "            matrice[i][j*2+1][2] = matrice2[i][j][2]\n",
    "    return matrice"
   ]
  },
  {
   "attachments": {},
   "cell_type": "markdown",
   "metadata": {},
   "source": [
    "## Découpage en blocs et compression"
   ]
  },
  {
   "attachments": {},
   "cell_type": "markdown",
   "metadata": {},
   "source": [
    "Question 6 : Soit une matrice dont les deux dimensions sont divisibles par 8. Donner une fonction qui découpe cette matrice en blocs 8 × 8 et les stocke dans une liste. L’ordre des blocs correspond à l’ordre de lecture d’une image."
   ]
  },
  {
   "cell_type": "code",
   "execution_count": 212,
   "metadata": {
    "ExecuteTime": {
     "end_time": "2023-05-20T16:27:38.077035Z",
     "start_time": "2023-05-20T16:27:38.020946Z"
    }
   },
   "outputs": [],
   "source": [
    "def decoupe_bloc(matrice):\n",
    "    lignes = matrice.shape[0]\n",
    "    colonnes = matrice.shape[1]\n",
    "    blocs = []\n",
    "    blocs.clear()\n",
    "    \n",
    "    # Parcours des indices de début de chaque bloc\n",
    "    for i in range(0, lignes, 8):\n",
    "        for j in range(0, colonnes, 8):\n",
    "            # Création d'un nouveau bloc vide\n",
    "            bloc = []\n",
    "            \n",
    "            # Parcours des lignes du bloc\n",
    "            for k in range(i, i + 8):\n",
    "                # Extraction des éléments de la ligne correspondante\n",
    "                ligne = matrice[k][j:j+8]\n",
    "                # Ajout de la ligne au bloc\n",
    "                bloc.append(ligne)\n",
    "            \n",
    "            # Ajout du bloc à la liste\n",
    "            blocs.append(bloc)\n",
    "    \n",
    "    return blocs"
   ]
  },
  {
   "attachments": {},
   "cell_type": "markdown",
   "metadata": {},
   "source": [
    "Question 7 : Donner une fonction qui applique la transformée à chaque bloc d’une liste"
   ]
  },
  {
   "cell_type": "code",
   "execution_count": 213,
   "metadata": {
    "ExecuteTime": {
     "end_time": "2023-05-20T16:27:38.077587Z",
     "start_time": "2023-05-20T16:27:38.025680Z"
    }
   },
   "outputs": [],
   "source": [
    "def applique_trans(liste_bloc):\n",
    "    liste_bloc = np.array(liste_bloc)\n",
    "    for i in range(len(liste_bloc)):\n",
    "        liste_bloc[i] = dct2(liste_bloc[i])\n",
    "    return liste_bloc"
   ]
  },
  {
   "attachments": {},
   "cell_type": "markdown",
   "metadata": {},
   "source": [
    "Question 8 : Implémentez le filtrage des coefficients des blocs selon un seuil donné en argument."
   ]
  },
  {
   "cell_type": "code",
   "execution_count": 214,
   "metadata": {
    "ExecuteTime": {
     "end_time": "2023-05-20T16:27:38.077720Z",
     "start_time": "2023-05-20T16:27:38.032706Z"
    }
   },
   "outputs": [],
   "source": [
    "def applique_seuil(liste_bloc, seuil):\n",
    "    for i in range(len(liste_bloc)):\n",
    "        for j in range(len(liste_bloc[0])):\n",
    "            for k in range(len(liste_bloc[0][0])):\n",
    "                for l in range(len(liste_bloc[0][0][0])):\n",
    "                    if liste_bloc[i][j][k][l] < seuil:\n",
    "                        liste_bloc[i][j][k][l] = 0\n",
    "    return"
   ]
  },
  {
   "attachments": {},
   "cell_type": "markdown",
   "metadata": {},
   "source": [
    "Question 9 : Donner une fonction qui est capable, à partir d’une image RGB, de créer les listes de blocs compressés dans les 3 modes."
   ]
  },
  {
   "cell_type": "code",
   "execution_count": 215,
   "metadata": {
    "ExecuteTime": {
     "end_time": "2023-05-20T16:27:38.077760Z",
     "start_time": "2023-05-20T16:27:38.037253Z"
    }
   },
   "outputs": [],
   "source": [
    "def trois_modes(image, seuil):\n",
    "    mode_0 =applique_trans(decoupe_bloc(padding(RGB_en_YCbCR(image))))\n",
    "    mode_1 = applique_seuil(applique_trans(decoupe_bloc(padding(RGB_en_YCbCR(image)))), seuil)\n",
    "    mode_2 = applique_seuil(applique_trans(decoupe_bloc(padding(sous_echantillonnage(RGB_en_YCbCR(image))))), seuil)\n",
    "    return mode_0, mode_1, mode_2"
   ]
  },
  {
   "attachments": {},
   "cell_type": "markdown",
   "metadata": {},
   "source": [
    "## Écriture dans un fichier"
   ]
  },
  {
   "attachments": {},
   "cell_type": "markdown",
   "metadata": {},
   "source": [
    "Question 10 : Pour commencer, vous  ́ecrirez quatres lignes contenant les informations de votre image. La première ligne contiendra le type du fichier : “SJPG”. La deuxième ligne contiendra les dimensions de l’image dans l’ordre hauteur puis largeur, séparées par un espace, par exemple “200 300”. La troisième ligne contiendra le mode de compression, par exemple “mode 1”. La quatrième ligne contiendra “RLE” si vous utilisez un run length encoding, ou “NORLE” sinon."
   ]
  },
  {
   "cell_type": "code",
   "execution_count": 216,
   "metadata": {
    "ExecuteTime": {
     "end_time": "2023-05-20T16:27:38.077801Z",
     "start_time": "2023-05-20T16:27:38.041160Z"
    }
   },
   "outputs": [],
   "source": [
    "def ecrire_fichier(image, mode):\n",
    "    f = open(\"fichier.txt\", \"w\")\n",
    "    f.write(f\"SJPG\\n{str(len(image[0]))} {str(len(image[0][0]))}\\n{mode}\\nRLE\\n\")\n",
    "\n",
    "    f.close()\n",
    "    return"
   ]
  },
  {
   "attachments": {},
   "cell_type": "markdown",
   "metadata": {},
   "source": [
    "Question 11 : Vous  ́ecrirez ensuite le contenu des blocs, d’abord ceux de Y, puis ceux de Cb puis ceux de Cr. Chaque bloc est écrit sur une ligne, les valeurs  ́etant des entiers séparés par de espaces."
   ]
  },
  {
   "cell_type": "code",
   "execution_count": 217,
   "metadata": {
    "ExecuteTime": {
     "end_time": "2023-05-20T16:27:38.859681Z",
     "start_time": "2023-05-20T16:27:38.045605Z"
    }
   },
   "outputs": [],
   "source": [
    "def ecrire_bloc(image):\n",
    "    f = open(\"fichier.txt\", \"a\")\n",
    "    for i in range(len(image)):\n",
    "        for j in range(len(image[0])):\n",
    "            for k in range(len(image[0][0])):\n",
    "                f.write(str(image[i][j][k])+\" \")\n",
    "            f.write(\"\\n\")\n",
    "    f.close()\n",
    "    return\n",
    "\n",
    "test = load(\"test.png\")\n",
    "ecrire_bloc(test)"
   ]
  },
  {
   "attachments": {},
   "cell_type": "markdown",
   "metadata": {},
   "source": [
    "Question 12 : Ajouter une option à votre fonction d’écriture pour qu’elle puisse ́ecrire les blocs en appliquant le codage RLE."
   ]
  },
  {
   "cell_type": "code",
   "execution_count": 218,
   "metadata": {
    "ExecuteTime": {
     "end_time": "2023-05-20T16:27:38.864297Z",
     "start_time": "2023-05-20T16:27:38.862896Z"
    }
   },
   "outputs": [],
   "source": [
    "def code_RLE(fichier):\n",
    "    r = open(fichier, \"r\")\n",
    "    e = open(fichier, \"w\")\n",
    "    ligne = r.readlines()\n",
    "    compt = 0\n",
    "    for i in range(4,7):\n",
    "        for car in ligne[i]:\n",
    "            if car == '0':\n",
    "                compt += 1\n",
    "                ligne[i][car] = \"\"\n",
    "            if car != '0':\n",
    "                ligne[i][car] = \"#\"+compt\n",
    "                compt=0\n",
    "        e.writelines(ligne)\n",
    "    r.close()\n",
    "    e.close()\n",
    "    return fichier"
   ]
  },
  {
   "attachments": {},
   "cell_type": "markdown",
   "metadata": {},
   "source": [
    "## Décompression"
   ]
  },
  {
   "attachments": {},
   "cell_type": "markdown",
   "metadata": {},
   "source": [
    "Question 13 :  ́Ecrire une fonction de décompression qui prend une liste de blocs pour chaque canal Y,Cb,Cr contenant les coefficients de la DCT et calcule une matrice représentant l’image en RGB."
   ]
  },
  {
   "cell_type": "code",
   "execution_count": 219,
   "metadata": {
    "ExecuteTime": {
     "end_time": "2023-05-20T16:27:38.869812Z",
     "start_time": "2023-05-20T16:27:38.867222Z"
    }
   },
   "outputs": [],
   "source": [
    "def decompress(liste_bloc):\n",
    "  num_blocks = len(liste_bloc)\n",
    "  rows = int(np.sqrt(num_blocks))\n",
    "  cols = num_blocks // rows\n",
    "  image = np.zeros((rows*8, cols*8), dtype=np.uint8)\n",
    "\n",
    "  for i in range(len(liste_bloc)):\n",
    "    liste_bloc[i] = idct2(liste_bloc[i])\n",
    "\n",
    "  for i in range(rows):\n",
    "    for j in range(cols):\n",
    "      block = liste_bloc[i*cols + j]\n",
    "      image[i*8:(i+1)*8, j*8:(j+1)*8] = block\n",
    "\n",
    "  return image"
   ]
  },
  {
   "attachments": {},
   "cell_type": "markdown",
   "metadata": {},
   "source": [
    "Question 14 :  ́Ecrire une fonction qui lit un fichier SJPG et qui créé les listes de blocs décrites par le fichier."
   ]
  },
  {
   "cell_type": "code",
   "execution_count": 220,
   "metadata": {
    "ExecuteTime": {
     "end_time": "2023-05-20T16:27:38.877941Z",
     "start_time": "2023-05-20T16:27:38.876616Z"
    }
   },
   "outputs": [],
   "source": [
    "rle = False\n",
    "def info_fichier(fichier):\n",
    "    global rle\n",
    "    f = open(fichier, \"r\")\n",
    "    ligne = f.readlines()\n",
    "    mode = ligne[2]\n",
    "    if ligne[3] == \"RLE\":\n",
    "        rle = True\n",
    "    elif ligne[3] == \"NORLE\":\n",
    "        rle = False\n",
    "    f.close()\n",
    "    return mode, rle\n",
    "\n",
    "def decode_RLE(liste_bloc):\n",
    "   for i in range(len(liste_bloc)):\n",
    "       for j in range(len(liste_bloc[0])):\n",
    "           for k in range(len(liste_bloc[0][0])):\n",
    "               for l in range(len(liste_bloc[0][0][0])):\n",
    "                   if liste_bloc[i][j][k][l] == \"#\":\n",
    "                       liste_bloc[i][j][k][l] = 0\n",
    "                   elif liste_bloc[i][j][k][l][0] == \"#\":\n",
    "                       liste_bloc[i][j][k][l] = liste_bloc[i][j][k][l][1:]\n",
    "   return liste_bloc\n",
    "\n",
    "\n",
    "def lire_fichier(fichier):\n",
    "    #creer les listes de blocs décrites par le fichier\n",
    "    mode, rle = info_fichier(fichier)\n",
    "    f = open(fichier, \"r\")\n",
    "    ligne = f.readlines()\n",
    "    liste_bloc = []\n",
    "    liste_bloc.clear()\n",
    "    for i in range(4,7):\n",
    "        liste_bloc.append(ligne[i])\n",
    "    if rle:\n",
    "        liste_bloc = decode_RLE(liste_bloc)\n",
    "    liste_bloc = decompress(liste_bloc)\n",
    "    #transformer les elements en float\n",
    "    for i in range(len(liste_bloc)):\n",
    "        for j in range(len(liste_bloc[0])):\n",
    "            for k in range(len(liste_bloc[0][0])):\n",
    "                for l in range(len(liste_bloc[0][0][0])):\n",
    "                    liste_bloc[i][j][k][l] = float(liste_bloc[i][j][k][l])\n",
    "    f.close()\n",
    "    return liste_bloc"
   ]
  },
  {
   "attachments": {},
   "cell_type": "markdown",
   "metadata": {},
   "source": [
    "## Tests "
   ]
  },
  {
   "cell_type": "code",
   "execution_count": 221,
   "metadata": {
    "ExecuteTime": {
     "end_time": "2023-05-20T16:27:56.904404Z",
     "start_time": "2023-05-20T16:27:38.880180Z"
    }
   },
   "outputs": [
    {
     "ename": "ValueError",
     "evalue": "could not convert string to float: '255 255 255 \\n'",
     "output_type": "error",
     "traceback": [
      "\u001B[0;31m---------------------------------------------------------------------------\u001B[0m",
      "\u001B[0;31mValueError\u001B[0m                                Traceback (most recent call last)",
      "Cell \u001B[0;32mIn [221], line 21\u001B[0m\n\u001B[1;32m     19\u001B[0m ecrire_bloc(test)\n\u001B[1;32m     20\u001B[0m info_fichier(\u001B[38;5;124m\"\u001B[39m\u001B[38;5;124mfichier.txt\u001B[39m\u001B[38;5;124m\"\u001B[39m)\n\u001B[0;32m---> 21\u001B[0m \u001B[43mlire_fichier\u001B[49m\u001B[43m(\u001B[49m\u001B[38;5;124;43m\"\u001B[39;49m\u001B[38;5;124;43mfichier.txt\u001B[39;49m\u001B[38;5;124;43m\"\u001B[39;49m\u001B[43m)\u001B[49m\n",
      "Cell \u001B[0;32mIn [220], line 37\u001B[0m, in \u001B[0;36mlire_fichier\u001B[0;34m(fichier)\u001B[0m\n\u001B[1;32m     35\u001B[0m \u001B[38;5;28;01mif\u001B[39;00m rle:\n\u001B[1;32m     36\u001B[0m     liste_bloc \u001B[38;5;241m=\u001B[39m decode_RLE(liste_bloc)\n\u001B[0;32m---> 37\u001B[0m liste_bloc \u001B[38;5;241m=\u001B[39m \u001B[43mdecompress\u001B[49m\u001B[43m(\u001B[49m\u001B[43mliste_bloc\u001B[49m\u001B[43m)\u001B[49m\n\u001B[1;32m     38\u001B[0m \u001B[38;5;66;03m#transformer les elements en float\u001B[39;00m\n\u001B[1;32m     39\u001B[0m \u001B[38;5;28;01mfor\u001B[39;00m i \u001B[38;5;129;01min\u001B[39;00m \u001B[38;5;28mrange\u001B[39m(\u001B[38;5;28mlen\u001B[39m(liste_bloc)):\n",
      "Cell \u001B[0;32mIn [219], line 8\u001B[0m, in \u001B[0;36mdecompress\u001B[0;34m(liste_bloc)\u001B[0m\n\u001B[1;32m      5\u001B[0m image \u001B[38;5;241m=\u001B[39m np\u001B[38;5;241m.\u001B[39mzeros((rows\u001B[38;5;241m*\u001B[39m\u001B[38;5;241m8\u001B[39m, cols\u001B[38;5;241m*\u001B[39m\u001B[38;5;241m8\u001B[39m), dtype\u001B[38;5;241m=\u001B[39mnp\u001B[38;5;241m.\u001B[39muint8)\n\u001B[1;32m      7\u001B[0m \u001B[38;5;28;01mfor\u001B[39;00m i \u001B[38;5;129;01min\u001B[39;00m \u001B[38;5;28mrange\u001B[39m(\u001B[38;5;28mlen\u001B[39m(liste_bloc)):\n\u001B[0;32m----> 8\u001B[0m   liste_bloc[i] \u001B[38;5;241m=\u001B[39m \u001B[43midct2\u001B[49m\u001B[43m(\u001B[49m\u001B[43mliste_bloc\u001B[49m\u001B[43m[\u001B[49m\u001B[43mi\u001B[49m\u001B[43m]\u001B[49m\u001B[43m)\u001B[49m\n\u001B[1;32m     10\u001B[0m \u001B[38;5;28;01mfor\u001B[39;00m i \u001B[38;5;129;01min\u001B[39;00m \u001B[38;5;28mrange\u001B[39m(rows):\n\u001B[1;32m     11\u001B[0m   \u001B[38;5;28;01mfor\u001B[39;00m j \u001B[38;5;129;01min\u001B[39;00m \u001B[38;5;28mrange\u001B[39m(cols):\n",
      "Cell \u001B[0;32mIn [205], line 23\u001B[0m, in \u001B[0;36midct2\u001B[0;34m(a)\u001B[0m\n\u001B[1;32m     22\u001B[0m \u001B[38;5;28;01mdef\u001B[39;00m \u001B[38;5;21midct2\u001B[39m(a):\n\u001B[0;32m---> 23\u001B[0m     \u001B[38;5;28;01mreturn\u001B[39;00m sp\u001B[38;5;241m.\u001B[39mfft\u001B[38;5;241m.\u001B[39midct( \u001B[43msp\u001B[49m\u001B[38;5;241;43m.\u001B[39;49m\u001B[43mfft\u001B[49m\u001B[38;5;241;43m.\u001B[39;49m\u001B[43midct\u001B[49m\u001B[43m(\u001B[49m\u001B[43m \u001B[49m\u001B[43ma\u001B[49m\u001B[43m,\u001B[49m\u001B[43m \u001B[49m\u001B[43maxis\u001B[49m\u001B[38;5;241;43m=\u001B[39;49m\u001B[38;5;241;43m0\u001B[39;49m\u001B[43m \u001B[49m\u001B[43m,\u001B[49m\u001B[43m \u001B[49m\u001B[43mnorm\u001B[49m\u001B[38;5;241;43m=\u001B[39;49m\u001B[38;5;124;43m'\u001B[39;49m\u001B[38;5;124;43mortho\u001B[39;49m\u001B[38;5;124;43m'\u001B[39;49m\u001B[43m)\u001B[49m, axis\u001B[38;5;241m=\u001B[39m\u001B[38;5;241m1\u001B[39m , norm\u001B[38;5;241m=\u001B[39m\u001B[38;5;124m'\u001B[39m\u001B[38;5;124mortho\u001B[39m\u001B[38;5;124m'\u001B[39m)\n",
      "File \u001B[0;32m~/opt/miniconda3/lib/python3.9/site-packages/scipy/fft/_backend.py:25\u001B[0m, in \u001B[0;36m_ScipyBackend.__ua_function__\u001B[0;34m(method, args, kwargs)\u001B[0m\n\u001B[1;32m     23\u001B[0m \u001B[38;5;28;01mif\u001B[39;00m fn \u001B[38;5;129;01mis\u001B[39;00m \u001B[38;5;28;01mNone\u001B[39;00m:\n\u001B[1;32m     24\u001B[0m     \u001B[38;5;28;01mreturn\u001B[39;00m \u001B[38;5;28mNotImplemented\u001B[39m\n\u001B[0;32m---> 25\u001B[0m \u001B[38;5;28;01mreturn\u001B[39;00m \u001B[43mfn\u001B[49m\u001B[43m(\u001B[49m\u001B[38;5;241;43m*\u001B[39;49m\u001B[43margs\u001B[49m\u001B[43m,\u001B[49m\u001B[43m \u001B[49m\u001B[38;5;241;43m*\u001B[39;49m\u001B[38;5;241;43m*\u001B[39;49m\u001B[43mkwargs\u001B[49m\u001B[43m)\u001B[49m\n",
      "File \u001B[0;32m~/opt/miniconda3/lib/python3.9/site-packages/scipy/fft/_pocketfft/realtransforms.py:19\u001B[0m, in \u001B[0;36m_r2r\u001B[0;34m(forward, transform, x, type, n, axis, norm, overwrite_x, workers, orthogonalize)\u001B[0m\n\u001B[1;32m      8\u001B[0m \u001B[38;5;28;01mdef\u001B[39;00m \u001B[38;5;21m_r2r\u001B[39m(forward, transform, x, \u001B[38;5;28mtype\u001B[39m\u001B[38;5;241m=\u001B[39m\u001B[38;5;241m2\u001B[39m, n\u001B[38;5;241m=\u001B[39m\u001B[38;5;28;01mNone\u001B[39;00m, axis\u001B[38;5;241m=\u001B[39m\u001B[38;5;241m-\u001B[39m\u001B[38;5;241m1\u001B[39m, norm\u001B[38;5;241m=\u001B[39m\u001B[38;5;28;01mNone\u001B[39;00m,\n\u001B[1;32m      9\u001B[0m          overwrite_x\u001B[38;5;241m=\u001B[39m\u001B[38;5;28;01mFalse\u001B[39;00m, workers\u001B[38;5;241m=\u001B[39m\u001B[38;5;28;01mNone\u001B[39;00m, orthogonalize\u001B[38;5;241m=\u001B[39m\u001B[38;5;28;01mNone\u001B[39;00m):\n\u001B[1;32m     10\u001B[0m     \u001B[38;5;124;03m\"\"\"Forward or backward 1-D DCT/DST\u001B[39;00m\n\u001B[1;32m     11\u001B[0m \n\u001B[1;32m     12\u001B[0m \u001B[38;5;124;03m    Parameters\u001B[39;00m\n\u001B[0;32m   (...)\u001B[0m\n\u001B[1;32m     17\u001B[0m \u001B[38;5;124;03m        The transform to perform\u001B[39;00m\n\u001B[1;32m     18\u001B[0m \u001B[38;5;124;03m    \"\"\"\u001B[39;00m\n\u001B[0;32m---> 19\u001B[0m     tmp \u001B[38;5;241m=\u001B[39m \u001B[43m_asfarray\u001B[49m\u001B[43m(\u001B[49m\u001B[43mx\u001B[49m\u001B[43m)\u001B[49m\n\u001B[1;32m     20\u001B[0m     overwrite_x \u001B[38;5;241m=\u001B[39m overwrite_x \u001B[38;5;129;01mor\u001B[39;00m _datacopied(tmp, x)\n\u001B[1;32m     21\u001B[0m     norm \u001B[38;5;241m=\u001B[39m _normalization(norm, forward)\n",
      "File \u001B[0;32m~/opt/miniconda3/lib/python3.9/site-packages/scipy/fft/_pocketfft/helper.py:92\u001B[0m, in \u001B[0;36m_asfarray\u001B[0;34m(x)\u001B[0m\n\u001B[1;32m     90\u001B[0m     \u001B[38;5;28;01mreturn\u001B[39;00m np\u001B[38;5;241m.\u001B[39masarray(x, np\u001B[38;5;241m.\u001B[39mfloat32)\n\u001B[1;32m     91\u001B[0m \u001B[38;5;28;01melif\u001B[39;00m x\u001B[38;5;241m.\u001B[39mdtype\u001B[38;5;241m.\u001B[39mkind \u001B[38;5;129;01mnot\u001B[39;00m \u001B[38;5;129;01min\u001B[39;00m \u001B[38;5;124m'\u001B[39m\u001B[38;5;124mfc\u001B[39m\u001B[38;5;124m'\u001B[39m:\n\u001B[0;32m---> 92\u001B[0m     \u001B[38;5;28;01mreturn\u001B[39;00m \u001B[43mnp\u001B[49m\u001B[38;5;241;43m.\u001B[39;49m\u001B[43masarray\u001B[49m\u001B[43m(\u001B[49m\u001B[43mx\u001B[49m\u001B[43m,\u001B[49m\u001B[43m \u001B[49m\u001B[43mnp\u001B[49m\u001B[38;5;241;43m.\u001B[39;49m\u001B[43mfloat64\u001B[49m\u001B[43m)\u001B[49m\n\u001B[1;32m     94\u001B[0m \u001B[38;5;66;03m# Require native byte order\u001B[39;00m\n\u001B[1;32m     95\u001B[0m dtype \u001B[38;5;241m=\u001B[39m x\u001B[38;5;241m.\u001B[39mdtype\u001B[38;5;241m.\u001B[39mnewbyteorder(\u001B[38;5;124m'\u001B[39m\u001B[38;5;124m=\u001B[39m\u001B[38;5;124m'\u001B[39m)\n",
      "\u001B[0;31mValueError\u001B[0m: could not convert string to float: '255 255 255 \\n'"
     ]
    }
   ],
   "source": [
    "test = load(\"test.png\")\n",
    "\n",
    "#testYCbCr = YCbCR_en_RGB(RGB_en_YCbCR(test))\n",
    "#Image.fromarray(test,'RGB').show()\n",
    "#Image.fromarray(testYCbCr,'RGB').show()\n",
    "\n",
    "#padded_image = padding(testYCbCr)\n",
    "\n",
    "#Image.fromarray(padded_image,'RGB').show()\n",
    "#Image.fromarray(unpadding(padded_image, test),'RGB').show()\n",
    "\n",
    "#Image.fromarray(YCbCR_en_RGB(mult_mat(sous_echantillonnage(RGB_en_YCbCR(test)))),'RGB').show()\n",
    "#print(psnr(test, YCbCR_en_RGB(mult_mat(sous_echantillonnage(RGB_en_YCbCR(test))))))\n",
    "\n",
    "mode_0 =applique_trans(decoupe_bloc(padding(RGB_en_YCbCR(test))))\n",
    "mode_1 = applique_seuil(applique_trans(decoupe_bloc(padding(RGB_en_YCbCR(test)))),10)\n",
    "mode_2 = applique_seuil(applique_trans(decoupe_bloc(padding(sous_echantillonnage(RGB_en_YCbCR(test))))),10)\n",
    "ecrire_fichier(test, \"mode 0\")\n",
    "ecrire_bloc(test)\n",
    "info_fichier(\"fichier.txt\")\n",
    "lire_fichier(\"fichier.txt\")\n",
    "#Image.fromarray(mode_0,'RGB').show()\n",
    "#Image.fromarray(mode_1,'RGB').show()"
   ]
  },
  {
   "cell_type": "code",
   "execution_count": null,
   "outputs": [],
   "source": [],
   "metadata": {
    "collapsed": false
   }
  }
 ],
 "metadata": {
  "kernelspec": {
   "display_name": "Python 3",
   "language": "python",
   "name": "python3"
  },
  "language_info": {
   "codemirror_mode": {
    "name": "ipython",
    "version": 3
   },
   "file_extension": ".py",
   "mimetype": "text/x-python",
   "name": "python",
   "nbconvert_exporter": "python",
   "pygments_lexer": "ipython3",
   "version": "3.9.12"
  },
  "orig_nbformat": 4,
  "vscode": {
   "interpreter": {
    "hash": "e5f921d2cbc40cc05b5a24db6ba0e6b62c33b50cc3ec097b0c624e897b5a9797"
   }
  }
 },
 "nbformat": 4,
 "nbformat_minor": 2
}
