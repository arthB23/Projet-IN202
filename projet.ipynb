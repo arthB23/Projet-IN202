{
 "cells": [
  {
   "attachments": {},
   "cell_type": "markdown",
   "metadata": {},
   "source": [
    "## Outils pour la manipulation d'images et librairies.\n"
   ]
  },
  {
   "cell_type": "code",
   "execution_count": 20,
   "metadata": {},
   "outputs": [],
   "source": [
    "import PIL\n",
    "from PIL import Image\n",
    "import numpy as np\n",
    "import scipy as sp\n",
    "import os\n",
    "from math import log10, sqrt\n",
    "\n",
    "def load(filename):\n",
    "    toLoad= Image.open(filename)\n",
    "    return np.asarray(toLoad)\n",
    "\n",
    "\n",
    "def psnr(original, compressed):\n",
    "    mse = np.mean((original - compressed) ** 2)\n",
    "    max_pixel = 255.0\n",
    "    psnr = 20 * log10(max_pixel / sqrt(mse))\n",
    "    return psnr\n",
    "\n",
    "def dct2(a):\n",
    "    return sp.fft.dct( sp.fft.dct( a, axis=0, norm='ortho' ), axis=1, norm='ortho' )\n",
    "\n",
    "def idct2(a):\n",
    "    return sp.fft.idct( sp.fft.idct( a, axis=0 , norm='ortho'), axis=1 , norm='ortho')\n",
    "\n"
   ]
  },
  {
   "attachments": {},
   "cell_type": "markdown",
   "metadata": {},
   "source": [
    "## Normalisation de l'image (YCbCr et padding)"
   ]
  },
  {
   "attachments": {},
   "cell_type": "markdown",
   "metadata": {},
   "source": [
    "Question 1 : Donner le code qui transforme une image RGB en une image YCbCr. Vous pourrez produire\n",
    "une matrice pour chaque composante, pour pouvoir plus facilement les manipuler indépendamment. Vous\n",
    "pouvez stocker les données YCbCr comme des entiers ou des flottants, mais vous expliquerez votre choix."
   ]
  },
  {
   "cell_type": "code",
   "execution_count": 21,
   "metadata": {},
   "outputs": [],
   "source": [
    "def RGB_en_YCbCR(image):\n",
    "    image_finale = np.array(image, dtype='float64')\n",
    "    for i in range(image.shape[0]):\n",
    "        for j in range(image.shape[1]):\n",
    "            R = image[i, j, 0]\n",
    "            G = image[i, j, 1]\n",
    "            B = image[i, j, 2]\n",
    "            image_finale[i, j, 0] = 0.299 * R + 0.587 * G + 0.114 * B\n",
    "            image_finale[i, j, 1] = -0.1687 * R - 0.3313 * G + 0.5 * B + 128\n",
    "            image_finale[i, j, 2] = 0.5 * R - 0.4187 * G - 0.0813 * B + 128\n",
    "    return image_finale\n"
   ]
  },
  {
   "attachments": {},
   "cell_type": "markdown",
   "metadata": {},
   "source": [
    "Question 2 : Donner le code qui transforme une image YCbCr en une image RGB. Attention, les valeurs des\n",
    "canaux RGB doivent être un entier dans [0, 255] qui pourra être codé sur un octet. Appliquer successivement\n",
    "la transformation RGB vers YCbCr puis YCbCr vers RGB et vérifier que vous obtenez l’image de départ.\n",
    "Vous consulterez la documentation des fonctions de numpy clip, uint8 et mask qui pourraient vous être\n",
    "utiles."
   ]
  },
  {
   "cell_type": "code",
   "execution_count": 22,
   "metadata": {},
   "outputs": [],
   "source": [
    "def YCbCR_en_RGB(image):\n",
    "    image_finale = np.array(image, dtype='uint8')\n",
    "    for i in range(image.shape[0]):\n",
    "        for j in range(image.shape[1]):\n",
    "            Y = image[i, j, 0]\n",
    "            Cb = image[i, j, 1]\n",
    "            Cr = image[i, j, 2]\n",
    "            image_finale[i, j, 0] = Y + 1.402 * (Cr - 128)\n",
    "            image_finale[i, j, 1] = Y - 0.34414 * (Cb - 128) - 0.71414 * (Cr - 128)\n",
    "            image_finale[i, j, 2] = Y + 1.772 * (Cb - 128)\n",
    "    return np.uint8(np.clip(image_finale, 0, 255))\n"
   ]
  },
  {
   "attachments": {},
   "cell_type": "markdown",
   "metadata": {},
   "source": [
    "Question 3 : Donner la fonction qui réalise ce padding ainsi que celle qui l’élimine et vérifier que\n",
    "l’application de ces deux transformations laissent l’image inchangée."
   ]
  },
  {
   "cell_type": "code",
   "execution_count": 23,
   "metadata": {},
   "outputs": [],
   "source": [
    "\n",
    "def padding(image):\n",
    "    padded_image = np.array(image, dtype='uint8')\n",
    "    ligne = padded_image.shape[0]\n",
    "    colonne = padded_image.shape[1]\n",
    "    canaux = padded_image.shape[2]\n",
    "    if ligne % 8 != 0:\n",
    "        padded_image = np.concatenate((padded_image, np.zeros((ligne%8, colonne, canaux), dtype=np.uint8)), axis=0)\n",
    "    if colonne % 8 != 0:\n",
    "        padded_image = np.concatenate((padded_image, np.zeros((ligne, colonne%8, canaux), dtype=np.uint8)), axis=1)\n",
    "    return padded_image"
   ]
  },
  {
   "cell_type": "code",
   "execution_count": 24,
   "metadata": {},
   "outputs": [],
   "source": [
    "def unpadding(padded_image, image_origine):\n",
    "    ligne = padded_image.shape[0]\n",
    "    colonne = padded_image.shape[1]\n",
    "\n",
    "    ligne_origine = image_origine.shape[0]\n",
    "    colonne_origine = image_origine.shape[1]\n",
    "\n",
    "    # Calculer le nombre de colonnes à enlever\n",
    "    nb_col_enlever = colonne - colonne_origine\n",
    "    while nb_col_enlever > 0:\n",
    "        padded_image = padded_image[:, :-1]\n",
    "        nb_col_enlever -= 1\n",
    "\n",
    "    # Calculer le nombre de lignes à enlever\n",
    "    nb_ligne_enlever = ligne- ligne_origine\n",
    "    while nb_ligne_enlever > 0:\n",
    "        padded_image = padded_image[:-1, :]\n",
    "        nb_ligne_enlever -= 1\n",
    "\n",
    "    return padded_image"
   ]
  },
  {
   "attachments": {},
   "cell_type": "markdown",
   "metadata": {},
   "source": [
    "Question 4 : Implémenter la fonction qui sous-échantillonne une matrice et renvoie une matrice deux fois\n",
    "plus petite."
   ]
  },
  {
   "cell_type": "code",
   "execution_count": 25,
   "metadata": {},
   "outputs": [],
   "source": [
    "def sous_echantillonnage(matrice):\n",
    "    matrice2 = matrice.copy()\n",
    "    for i in range(matrice.shape[0]):\n",
    "        for j in range(0, matrice.shape[1]):\n",
    "            matrice[i, j, 1] = 0\n",
    "            matrice[i, j, 2] = 0\n",
    "    for i in range(matrice.shape[0]):\n",
    "        for j in range(0, matrice.shape[1], 2):\n",
    "            new_valueCb = (matrice2[i][j][1] + matrice2[i][j+1][1])//2\n",
    "            new_valueCr = (matrice2[i][j][2] + matrice2[i][j+1][2])//2\n",
    "            matrice[i, j//2, 1] = new_valueCb\n",
    "            matrice[i, j//2, 2] = new_valueCr\n",
    "    return matrice"
   ]
  },
  {
   "attachments": {},
   "cell_type": "markdown",
   "metadata": {},
   "source": [
    "Question 5 : Implémenter la fonction qui multiplie par deux la deuxième dimension d’une matrice. Tester à la suite le sous-échantillonnage et cette fonction, vous devez retrouver une image presque identique à celle de départ."
   ]
  },
  {
   "cell_type": "code",
   "execution_count": 26,
   "metadata": {},
   "outputs": [],
   "source": [
    "\n",
    "def mult_mat(matrice):\n",
    "    matrice2 = matrice.copy()\n",
    "    for i in range(matrice.shape[0]):\n",
    "        for j in range(0, matrice.shape[1]//2):\n",
    "            matrice[i][j*2][1] = matrice2[i][j][1]\n",
    "            matrice[i][j*2][2] = matrice2[i][j][2]\n",
    "            matrice[i][j*2+1][1] = matrice2[i][j][1]\n",
    "            matrice[i][j*2+1][2] = matrice2[i][j][2]\n",
    "    return matrice"
   ]
  },
  {
   "attachments": {},
   "cell_type": "markdown",
   "metadata": {},
   "source": [
    "## Découpage en blocs et compression"
   ]
  },
  {
   "attachments": {},
   "cell_type": "markdown",
   "metadata": {},
   "source": [
    "Question 6 : Soit une matrice dont les deux dimensions sont divisibles par 8. Donner une fonction qui découpe cette matrice en blocs 8 × 8 et les stocke dans une liste. L’ordre des blocs correspond à l’ordre de lecture d’une image."
   ]
  },
  {
   "cell_type": "code",
   "execution_count": 29,
   "metadata": {},
   "outputs": [
    {
     "name": "stdout",
     "output_type": "stream",
     "text": [
      "[[  1   2   3   4   5   6   7   8   9  10  11  12  13  14  15  16]\n",
      " [ 17  18  19  20  21  22  23  24  25  26  27  28  29  30  31  32]\n",
      " [ 33  34  35  36  37  38  39  40  41  42  43  44  45  46  47  48]\n",
      " [ 49  50  51  52  53  54  55  56  57  58  59  60  61  62  63  64]\n",
      " [ 65  66  67  68  69  70  71  72  73  74  75  76  77  78  79  80]\n",
      " [ 81  82  83  84  85  86  87  88  89  90  91  92  93  94  95  96]\n",
      " [ 97  98  99 100 101 102 103 104 105 106 107 108 109 110 111 112]\n",
      " [113 114 115 116 117 118 119 120 121 122 123 124 125 126 127 128]]\n",
      "[[array([1, 2, 3, 4, 5, 6, 7, 8]), array([17, 18, 19, 20, 21, 22, 23, 24]), array([33, 34, 35, 36, 37, 38, 39, 40]), array([49, 50, 51, 52, 53, 54, 55, 56]), array([65, 66, 67, 68, 69, 70, 71, 72]), array([81, 82, 83, 84, 85, 86, 87, 88]), array([ 97,  98,  99, 100, 101, 102, 103, 104]), array([113, 114, 115, 116, 117, 118, 119, 120])], [array([ 9, 10, 11, 12, 13, 14, 15, 16]), array([25, 26, 27, 28, 29, 30, 31, 32]), array([41, 42, 43, 44, 45, 46, 47, 48]), array([57, 58, 59, 60, 61, 62, 63, 64]), array([73, 74, 75, 76, 77, 78, 79, 80]), array([89, 90, 91, 92, 93, 94, 95, 96]), array([105, 106, 107, 108, 109, 110, 111, 112]), array([121, 122, 123, 124, 125, 126, 127, 128])]]\n"
     ]
    }
   ],
   "source": [
    "def decoupe_bloc(matrice):\n",
    "    lignes = matrice.shape[0]\n",
    "    colonnes = matrice.shape[1]\n",
    "    blocs = []\n",
    "    \n",
    "    # Parcours des indices de début de chaque bloc\n",
    "    for i in range(0, lignes, 8):\n",
    "        for j in range(0, colonnes, 8):\n",
    "            # Création d'un nouveau bloc vide\n",
    "            bloc = []\n",
    "            \n",
    "            # Parcours des lignes du bloc\n",
    "            for k in range(i, i + 8):\n",
    "                # Extraction des éléments de la ligne correspondante\n",
    "                ligne = matrice[k][j:j+8]\n",
    "                # Ajout de la ligne au bloc\n",
    "                bloc.append(ligne)\n",
    "            \n",
    "            # Ajout du bloc à la liste\n",
    "            blocs.append(bloc)\n",
    "    \n",
    "    return blocs"
   ]
  },
  {
   "attachments": {},
   "cell_type": "markdown",
   "metadata": {},
   "source": [
    "Question 7 : Donner une fonction qui applique la transformée à chaque bloc d’une liste"
   ]
  },
  {
   "cell_type": "code",
   "execution_count": null,
   "metadata": {},
   "outputs": [],
   "source": [
    "def applique_trans(liste_bloc):\n",
    "    for i in range(len(liste_bloc)):\n",
    "        liste_bloc[i] = dct2(liste_bloc[i])\n",
    "    return liste_bloc"
   ]
  },
  {
   "attachments": {},
   "cell_type": "markdown",
   "metadata": {},
   "source": [
    "Question 8 : Implémentez le filtrage des coefficients des blocs selon un seuil donné en argument."
   ]
  },
  {
   "attachments": {},
   "cell_type": "markdown",
   "metadata": {},
   "source": [
    "## Écriture dans un fichier"
   ]
  },
  {
   "cell_type": "code",
   "execution_count": 1,
   "metadata": {
    "ExecuteTime": {
     "end_time": "2023-05-08T14:44:30.145282Z",
     "start_time": "2023-05-08T14:44:30.139328Z"
    }
   },
   "outputs": [],
   "source": [
    "#ecrire dans un fichier\n",
    "\n",
    "def ecrire_fichier(liste_bloc, fichier):\n",
    "    with open(fichier, 'w') as f:\n",
    "        for bloc in liste_bloc:\n",
    "            for ligne in bloc:\n",
    "                for element in ligne:\n",
    "                    f.write(str(element) + ' ')\n",
    "                f.write('\\n')\n",
    "            f.write('\\n')\n",
    "\n",
    "#lire dans un fichier\n",
    "def lire_fichier(fichier):\n",
    "    with open(fichier, 'r') as f:\n",
    "        lignes = f.readlines()\n",
    "        blocs = []\n",
    "        bloc = []\n",
    "        for ligne in lignes:\n",
    "            if ligne == '\\n':\n",
    "                blocs.append(bloc)\n",
    "                bloc = []\n",
    "            else:\n",
    "                ligne = ligne.split(' ')\n",
    "                ligne = [int(element) for element in ligne if element != '']\n",
    "                bloc.append(ligne)\n",
    "    return blocs"
   ]
  },
  {
   "attachments": {},
   "cell_type": "markdown",
   "metadata": {},
   "source": [
    "## Décompression"
   ]
  },
  {
   "cell_type": "code",
   "execution_count": null,
   "metadata": {},
   "outputs": [],
   "source": []
  },
  {
   "attachments": {},
   "cell_type": "markdown",
   "metadata": {},
   "source": [
    "## Tests "
   ]
  },
  {
   "cell_type": "code",
   "execution_count": 28,
   "metadata": {},
   "outputs": [
    {
     "name": "stdout",
     "output_type": "stream",
     "text": [
      "43.60365608263673\n"
     ]
    }
   ],
   "source": [
    "test = load(\"test.png\")\n",
    "testYCbCr = YCbCR_en_RGB(RGB_en_YCbCR(test))\n",
    "#Image.fromarray(test,'RGB').show()\n",
    "#Image.fromarray(testYCbCr,'RGB').show()\n",
    "\n",
    "padded_image = padding(testYCbCr)\n",
    "\n",
    "#Image.fromarray(padded_image,'RGB').show()\n",
    "#Image.fromarray(unpadding(padded_image, test),'RGB').show()\n",
    "\n",
    "Image.fromarray(YCbCR_en_RGB(mult_mat(sous_echantillonnage(RGB_en_YCbCR(test)))),'RGB').show()\n",
    "print(psnr(test, YCbCR_en_RGB(mult_mat(sous_echantillonnage(RGB_en_YCbCR(test))))))"
   ]
  }
 ],
 "metadata": {
  "kernelspec": {
   "display_name": "Python 3",
   "language": "python",
   "name": "python3"
  },
  "language_info": {
   "codemirror_mode": {
    "name": "ipython",
    "version": 3
   },
   "file_extension": ".py",
   "mimetype": "text/x-python",
   "name": "python",
   "nbconvert_exporter": "python",
   "pygments_lexer": "ipython3",
   "version": "3.9.12"
  },
  "orig_nbformat": 4,
  "vscode": {
   "interpreter": {
    "hash": "e5f921d2cbc40cc05b5a24db6ba0e6b62c33b50cc3ec097b0c624e897b5a9797"
   }
  }
 },
 "nbformat": 4,
 "nbformat_minor": 2
}
